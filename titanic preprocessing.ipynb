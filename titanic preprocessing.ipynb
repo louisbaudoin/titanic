{
 "cells": [
  {
   "cell_type": "code",
   "execution_count": 66,
   "metadata": {
    "collapsed": false
   },
   "outputs": [],
   "source": [
    "import numpy as np\n",
    "import pandas as pd\n",
    "import datetime\n",
    "from datetime import datetime\n",
    "import time\n",
    "from datetime import datetime\n",
    "import csv\n",
    "%matplotlib inline\n",
    "import matplotlib.pyplot as plt\n"
   ]
  },
  {
   "cell_type": "code",
   "execution_count": null,
   "metadata": {
    "collapsed": true
   },
   "outputs": [],
   "source": []
  },
  {
   "cell_type": "code",
   "execution_count": 136,
   "metadata": {
    "collapsed": false
   },
   "outputs": [
    {
     "data": {
      "text/html": [
       "<div>\n",
       "<table border=\"1\" class=\"dataframe\">\n",
       "  <thead>\n",
       "    <tr style=\"text-align: right;\">\n",
       "      <th></th>\n",
       "      <th>PassengerId</th>\n",
       "      <th>Survived</th>\n",
       "      <th>Pclass</th>\n",
       "      <th>Name</th>\n",
       "      <th>Sex</th>\n",
       "      <th>Age</th>\n",
       "      <th>SibSp</th>\n",
       "      <th>Parch</th>\n",
       "      <th>Ticket</th>\n",
       "      <th>Fare</th>\n",
       "      <th>Cabin</th>\n",
       "      <th>Embarked</th>\n",
       "    </tr>\n",
       "  </thead>\n",
       "  <tbody>\n",
       "    <tr>\n",
       "      <th>0</th>\n",
       "      <td>1</td>\n",
       "      <td>0</td>\n",
       "      <td>3</td>\n",
       "      <td>Braund, Mr. Owen Harris</td>\n",
       "      <td>male</td>\n",
       "      <td>22.0</td>\n",
       "      <td>1</td>\n",
       "      <td>0</td>\n",
       "      <td>A/5 21171</td>\n",
       "      <td>7.2500</td>\n",
       "      <td>NaN</td>\n",
       "      <td>S</td>\n",
       "    </tr>\n",
       "    <tr>\n",
       "      <th>1</th>\n",
       "      <td>2</td>\n",
       "      <td>1</td>\n",
       "      <td>1</td>\n",
       "      <td>Cumings, Mrs. John Bradley (Florence Briggs Th...</td>\n",
       "      <td>female</td>\n",
       "      <td>38.0</td>\n",
       "      <td>1</td>\n",
       "      <td>0</td>\n",
       "      <td>PC 17599</td>\n",
       "      <td>71.2833</td>\n",
       "      <td>C85</td>\n",
       "      <td>C</td>\n",
       "    </tr>\n",
       "    <tr>\n",
       "      <th>2</th>\n",
       "      <td>3</td>\n",
       "      <td>1</td>\n",
       "      <td>3</td>\n",
       "      <td>Heikkinen, Miss. Laina</td>\n",
       "      <td>female</td>\n",
       "      <td>26.0</td>\n",
       "      <td>0</td>\n",
       "      <td>0</td>\n",
       "      <td>STON/O2. 3101282</td>\n",
       "      <td>7.9250</td>\n",
       "      <td>NaN</td>\n",
       "      <td>S</td>\n",
       "    </tr>\n",
       "    <tr>\n",
       "      <th>3</th>\n",
       "      <td>4</td>\n",
       "      <td>1</td>\n",
       "      <td>1</td>\n",
       "      <td>Futrelle, Mrs. Jacques Heath (Lily May Peel)</td>\n",
       "      <td>female</td>\n",
       "      <td>35.0</td>\n",
       "      <td>1</td>\n",
       "      <td>0</td>\n",
       "      <td>113803</td>\n",
       "      <td>53.1000</td>\n",
       "      <td>C123</td>\n",
       "      <td>S</td>\n",
       "    </tr>\n",
       "    <tr>\n",
       "      <th>4</th>\n",
       "      <td>5</td>\n",
       "      <td>0</td>\n",
       "      <td>3</td>\n",
       "      <td>Allen, Mr. William Henry</td>\n",
       "      <td>male</td>\n",
       "      <td>35.0</td>\n",
       "      <td>0</td>\n",
       "      <td>0</td>\n",
       "      <td>373450</td>\n",
       "      <td>8.0500</td>\n",
       "      <td>NaN</td>\n",
       "      <td>S</td>\n",
       "    </tr>\n",
       "  </tbody>\n",
       "</table>\n",
       "</div>"
      ],
      "text/plain": [
       "   PassengerId  Survived  Pclass  \\\n",
       "0            1         0       3   \n",
       "1            2         1       1   \n",
       "2            3         1       3   \n",
       "3            4         1       1   \n",
       "4            5         0       3   \n",
       "\n",
       "                                                Name     Sex   Age  SibSp  \\\n",
       "0                            Braund, Mr. Owen Harris    male  22.0      1   \n",
       "1  Cumings, Mrs. John Bradley (Florence Briggs Th...  female  38.0      1   \n",
       "2                             Heikkinen, Miss. Laina  female  26.0      0   \n",
       "3       Futrelle, Mrs. Jacques Heath (Lily May Peel)  female  35.0      1   \n",
       "4                           Allen, Mr. William Henry    male  35.0      0   \n",
       "\n",
       "   Parch            Ticket     Fare Cabin Embarked  \n",
       "0      0         A/5 21171   7.2500   NaN        S  \n",
       "1      0          PC 17599  71.2833   C85        C  \n",
       "2      0  STON/O2. 3101282   7.9250   NaN        S  \n",
       "3      0            113803  53.1000  C123        S  \n",
       "4      0            373450   8.0500   NaN        S  "
      ]
     },
     "execution_count": 136,
     "metadata": {},
     "output_type": "execute_result"
    }
   ],
   "source": [
    "# create dataframe from csv\n",
    "path = \"/Users/louis/Documents/DataScience/Titanic challenge/train.csv\"\n",
    "data = pd.read_csv(path)\n",
    "data.head()"
   ]
  },
  {
   "cell_type": "code",
   "execution_count": 18,
   "metadata": {
    "collapsed": false
   },
   "outputs": [
    {
     "name": "stdout",
     "output_type": "stream",
     "text": [
      "<class 'pandas.core.frame.DataFrame'>\n",
      "RangeIndex: 891 entries, 0 to 890\n",
      "Data columns (total 12 columns):\n",
      "PassengerId    891 non-null int64\n",
      "Survived       891 non-null int64\n",
      "Pclass         891 non-null int64\n",
      "Name           891 non-null object\n",
      "Sex            891 non-null object\n",
      "Age            714 non-null float64\n",
      "SibSp          891 non-null int64\n",
      "Parch          891 non-null int64\n",
      "Ticket         891 non-null object\n",
      "Fare           891 non-null float64\n",
      "Cabin          204 non-null object\n",
      "Embarked       889 non-null object\n",
      "dtypes: float64(2), int64(5), object(5)\n",
      "memory usage: 83.6+ KB\n"
     ]
    }
   ],
   "source": [
    "data.info()"
   ]
  },
  {
   "cell_type": "markdown",
   "metadata": {},
   "source": [
    "# Descriptive analysis"
   ]
  },
  {
   "cell_type": "code",
   "execution_count": 17,
   "metadata": {
    "collapsed": true
   },
   "outputs": [
    {
     "name": "stdout",
     "output_type": "stream",
     "text": [
      "512.3292\n",
      "0.0\n"
     ]
    },
    {
     "data": {
      "text/plain": [
       "S    644\n",
       "C    168\n",
       "Q     77\n",
       "Name: Embarked, dtype: int64"
      ]
     },
     "execution_count": 17,
     "metadata": {},
     "output_type": "execute_result"
    }
   ],
   "source": [
    "# nombre de passagers (training data)\n",
    "data['PassengerId'].max()\n",
    "# nombre de classes\n",
    "data['Pclass'].max()\n",
    "# GENDER\n",
    "data['Sex'].value_counts(dropna = False)\n",
    "# age\n",
    "data['Age'].max()\n",
    "# fare\n",
    "print data['Fare'].max()\n",
    "print data['Fare'].min()\n",
    "# embarked\n",
    "data['Embarked'].value_counts()"
   ]
  },
  {
   "cell_type": "code",
   "execution_count": 47,
   "metadata": {
    "collapsed": false
   },
   "outputs": [
    {
     "data": {
      "text/plain": [
       "<matplotlib.axes._subplots.AxesSubplot at 0x11d842650>"
      ]
     },
     "execution_count": 47,
     "metadata": {},
     "output_type": "execute_result"
    },
    {
     "data": {
      "image/png": "[encoded data removed]",
      "text/plain": [
       "<matplotlib.figure.Figure at 0x11d9c6890>"
      ]
     },
     "metadata": {},
     "output_type": "display_data"
    }
   ],
   "source": [
    "# fare paid by subcategory\n",
    "pivot_fare = pd.pivot_table(data, index = ['Pclass'], values = ['Fare'], columns = ['Sex'], aggfunc = np.mean)\n",
    "#pivot_fare.reset_index(level = [1], drop = False, inplace = True)\n",
    "pivot_fare.plot.bar()"
   ]
  },
  {
   "cell_type": "code",
   "execution_count": 687,
   "metadata": {
    "collapsed": false
   },
   "outputs": [
    {
     "data": {
      "text/plain": [
       "<matplotlib.axes._subplots.AxesSubplot at 0x1264368d0>"
      ]
     },
     "execution_count": 687,
     "metadata": {},
     "output_type": "execute_result"
    },
    {
     "data": {
      "image/png": "[encoded data removed]",
      "text/plain": [
       "<matplotlib.figure.Figure at 0x11dd03710>"
      ]
     },
     "metadata": {},
     "output_type": "display_data"
    }
   ],
   "source": [
    "# % of survivors by subcategories\n",
    "# number of persons by subcategory\n",
    "pivot_all = pd.pivot_table(data, index = ['Pclass'], values = ['Survived'], columns = ['Sex'], aggfunc = 'count')\n",
    "#number of survivors per category\n",
    "pivot_survivors = pd.pivot_table(data, index = ['Pclass'], values = ['Survived'], columns = ['Sex'], aggfunc = 'sum')\n",
    "# div\n",
    "table = pivot_survivors.div(pivot_all)*100\n",
    "# plot \n",
    "table.plot(kind ='bar', title =  'Survivors based on genders and class')\n",
    "\n",
    "# reset indexes\n",
    "#pivot_survivors.reset_index(level = [0,1], drop = False, inplace = True)\n",
    "#pivot_all.reset_index(level = [0,1], drop = False, inplace = True)"
   ]
  },
  {
   "cell_type": "code",
   "execution_count": 688,
   "metadata": {
    "collapsed": false
   },
   "outputs": [
    {
     "data": {
      "text/plain": [
       "<matplotlib.axes._subplots.AxesSubplot at 0x1262cc710>"
      ]
     },
     "execution_count": 688,
     "metadata": {},
     "output_type": "execute_result"
    },
    {
     "data": {
      "image/png": "[encoded data removed]",
      "text/plain": [
       "<matplotlib.figure.Figure at 0x1262c4190>"
      ]
     },
     "metadata": {},
     "output_type": "display_data"
    }
   ],
   "source": [
    "# distribution des gens selon les classes et le genre\n",
    "pivot_all = pd.pivot_table(data, index = ['Pclass'], values = ['Survived'], columns = ['Sex'], aggfunc = 'count')\n",
    "pivot_all.plot(kind = 'bar', title = 'Population across gender and class')"
   ]
  },
  {
   "cell_type": "code",
   "execution_count": 759,
   "metadata": {
    "collapsed": false
   },
   "outputs": [],
   "source": [
    "# distribution of death based on age\n",
    "data['Age'] = data['Age'].fillna(data['Age'].mean())\n",
    "pivot_age = pd.pivot_table(data, index = ['Age'], values = ['Survived'], aggfunc = 'sum')\n",
    "tot = data.shape[0]\n",
    "#pivot_plot = pivot_age.div(tot)\n",
    "#pivot_plot.plot(kind = 'density', title = \"Distribution of death records based on age\")\n",
    "#print 'the distribution is not stable, we need to create buckets'"
   ]
  },
  {
   "cell_type": "code",
   "execution_count": 737,
   "metadata": {
    "collapsed": false
   },
   "outputs": [
    {
     "data": {
      "text/plain": [
       "891"
      ]
     },
     "execution_count": 737,
     "metadata": {},
     "output_type": "execute_result"
    }
   ],
   "source": [
    "#data['Survived'].value_counts(dropna = False)\n",
    "#data['Survived'].sum()\n",
    "data['Age'].value_counts(dropna = True).sum()"
   ]
  },
  {
   "cell_type": "code",
   "execution_count": 760,
   "metadata": {
    "collapsed": false
   },
   "outputs": [],
   "source": [
    "# Distribution of death based on fare\n",
    "pivot_fare = pd.pivot_table(data, index = ['Fare'], values = ['Survived'], aggfunc = 'sum')\n",
    "pivot_fare['Survived'].sum()\n",
    "pivot_fare = pivot_fare.div(tot)*100\n",
    "#pivot_fare.plot(kind = 'density', title = 'distribution of death based on fare')"
   ]
  },
  {
   "cell_type": "code",
   "execution_count": 575,
   "metadata": {
    "collapsed": false
   },
   "outputs": [],
   "source": [
    "cut_age = pd.cut(pivot_age, bins = 30, right = True)"
   ]
  },
  {
   "cell_type": "markdown",
   "metadata": {},
   "source": [
    "# Pre-processing "
   ]
  },
  {
   "cell_type": "code",
   "execution_count": 280,
   "metadata": {
    "collapsed": false
   },
   "outputs": [],
   "source": [
    "# create train dataframe\n",
    "path_train = \"/Users/louis/Documents/DataScience/Titanic challenge/train.csv\"\n",
    "data_train = pd.read_csv(path_train)\n",
    "# create test dataframe\n",
    "path_test = \"/Users/louis/Documents/DataScience/Titanic challenge/test.csv\"\n",
    "data_test = pd.read_csv(path_test)"
   ]
  },
  {
   "cell_type": "code",
   "execution_count": 286,
   "metadata": {
    "collapsed": false
   },
   "outputs": [],
   "source": [
    "def preprocessing_model(data, features):\n",
    "    # dummify embarked\n",
    "    data = dummify(data, 'Embarked')\n",
    "    \n",
    "    ## Replace NAs in Age and Fare\n",
    "    avg_age = data['Age'].mean()\n",
    "    data['Age'] = data['Age'].fillna(avg_age)\n",
    "    avg_fare = data['Fare'].mean()\n",
    "    data['Fare'] = data['Fare'].fillna(avg_age)\n",
    "    \n",
    "    # 1 for women, 0 for men\n",
    "    sex = {'male': 0, 'female':1}\n",
    "    data['Sex'] = data['Sex'].map(sex)\n",
    "    \n",
    "    # keep only relevant features\n",
    "    data = data[features]\n",
    "    return data\n",
    "\n",
    "\n",
    "# dummify Pclass and Embark\n",
    "def dummify(data, column):\n",
    "    data_column = data[column]\n",
    "    dumm = pd.get_dummies(data_column, prefix = column, prefix_sep = '_')\n",
    "    data = data.merge(dumm, left_index = True, right_index = True, how ='left')\n",
    "    del data[column]\n",
    "    return data\n"
   ]
  },
  {
   "cell_type": "markdown",
   "metadata": {},
   "source": [
    "# K-Means"
   ]
  },
  {
   "cell_type": "code",
   "execution_count": 109,
   "metadata": {
    "collapsed": true
   },
   "outputs": [],
   "source": [
    "# Note: KMeans can fall in local minima, hence should be run several times manually (not a parameter in sklearn)\n",
    "from sklearn.cluster import KMeans\n",
    "from sklearn.preprocessing import scale\n",
    "from matplotlib import pyplot as plt "
   ]
  },
  {
   "cell_type": "code",
   "execution_count": 110,
   "metadata": {
    "collapsed": false
   },
   "outputs": [
    {
     "name": "stdout",
     "output_type": "stream",
     "text": [
      "0\n"
     ]
    }
   ],
   "source": [
    "# replace null ages by the average of ages\n",
    "av_ages = data['Age'].mean()\n",
    "data['Age'] = data['Age'].fillna(av_ages)\n",
    "print data['Age'].isnull().sum()"
   ]
  },
  {
   "cell_type": "code",
   "execution_count": 112,
   "metadata": {
    "collapsed": false
   },
   "outputs": [],
   "source": [
    "# select relevant features for KMeans\n",
    "features_K = ['Age', 'Fare', 'Survived', 'SibSp', 'Parch']\n",
    "data_K = data[features_K]\n",
    "# Instantiate the model\n",
    "model = KMeans(n_clusters = 3)"
   ]
  },
  {
   "cell_type": "code",
   "execution_count": 113,
   "metadata": {
    "collapsed": false
   },
   "outputs": [],
   "source": [
    "# center and normalize\n",
    "data_norm = scale(data_K)\n",
    "model = model.fit(data_norm)"
   ]
  },
  {
   "cell_type": "code",
   "execution_count": 114,
   "metadata": {
    "collapsed": false
   },
   "outputs": [
    {
     "data": {
      "image/png": "[encoded data removed]",
      "text/plain": [
       "<matplotlib.figure.Figure at 0x122239950>"
      ]
     },
     "metadata": {},
     "output_type": "display_data"
    }
   ],
   "source": [
    "# And we'll visualize it:\n",
    "plt.figure(figsize=(8, 6))\n",
    "plt.scatter(data_K.iloc[:,0], data_K.iloc[:,1], c=model.labels_.astype(float))\n",
    "plt.xlabel('Age', fontsize=18)\n",
    "plt.ylabel('Fare', fontsize = 18)\n",
    "plt.ylim((0,600))\n",
    "plt.xlim((0,85))\n",
    "plt.grid(True)\n",
    "plt.show()"
   ]
  },
  {
   "cell_type": "code",
   "execution_count": 448,
   "metadata": {
    "collapsed": false
   },
   "outputs": [
    {
     "data": {
      "text/plain": [
       "GridSearchCV(cv=3, error_score='raise',\n",
       "       estimator=KMeans(copy_x=True, init='k-means++', max_iter=300, n_clusters=8, n_init=10,\n",
       "    n_jobs=1, precompute_distances='auto', random_state=None, tol=0.0001,\n",
       "    verbose=0),\n",
       "       fit_params={}, iid=True, n_jobs=1,\n",
       "       param_grid={'n_clusters': [1, 2, 3, 4, 5, 6, 7, 8, 9, 10, 11, 12, 13, 14, 15, 16, 17, 18, 19]},\n",
       "       pre_dispatch='2*n_jobs', refit=True, scoring=None, verbose=0)"
      ]
     },
     "execution_count": 448,
     "metadata": {},
     "output_type": "execute_result"
    }
   ],
   "source": [
    "# Try out different values of clusters and choose based on the sum of distances to the centroids\n",
    "from sklearn import grid_search\n",
    "\n",
    "# Instantiate the model\n",
    "model_KM = KMeans()\n",
    "# define parameters\n",
    "parameters = {'n_clusters': [i for i in range(1,20)]}\n",
    "clf = grid_search.GridSearchCV(model_KM, parameters, cv = 3)\n",
    "clf.fit(data_norm)"
   ]
  },
  {
   "cell_type": "code",
   "execution_count": 449,
   "metadata": {
    "collapsed": false
   },
   "outputs": [
    {
     "data": {
      "text/plain": [
       "{'n_clusters': 19}"
      ]
     },
     "execution_count": 449,
     "metadata": {},
     "output_type": "execute_result"
    }
   ],
   "source": [
    "clf.best_params_"
   ]
  },
  {
   "cell_type": "code",
   "execution_count": 457,
   "metadata": {
    "collapsed": false
   },
   "outputs": [
    {
     "data": {
      "text/plain": [
       "KMeans(copy_x=True, init='k-means++', max_iter=300, n_clusters=3, n_init=10,\n",
       "    n_jobs=1, precompute_distances='auto', random_state=None, tol=0.0001,\n",
       "    verbose=0)"
      ]
     },
     "execution_count": 457,
     "metadata": {},
     "output_type": "execute_result"
    }
   ],
   "source": [
    "# Instantiate model with 3 clusters and train\n",
    "model_KM_b = KMeans(n_clusters = 3)\n",
    "model_KM_b.fit(data_norm)"
   ]
  },
  {
   "cell_type": "code",
   "execution_count": 506,
   "metadata": {
    "collapsed": false
   },
   "outputs": [],
   "source": [
    "# get np.array with cluster labels\n",
    "labels = model_KM_b.labels_\n",
    "# get np.array with distances to centroids\n",
    "distances = model_KM_b.transform(data_norm)"
   ]
  },
  {
   "cell_type": "code",
   "execution_count": 450,
   "metadata": {
    "collapsed": false
   },
   "outputs": [],
   "source": [
    "# KMeans\n",
    "# ---> PARAMETERS\n",
    "# n_clusters: number of clusters to form\n",
    "# max_iter: Maximum number of iterations of the k-means algorithm for a single run.\n",
    "# n_init: Number of time the k-means algorithm will be run with different centroid seeds. The final results will be the best output of n_init consecutive runs in terms of inertia.\n",
    "# init : {‘k-means++’, ‘random’ or an ndarray} - ‘k-means++’ : selects initial cluster centers for k-mean clustering in a smart way to speed up convergence. See section Notes in k_init for more details.\n",
    "#-random’: choose k observations (rows) at random from data for the initial centroids.\n",
    "# random_state : seed of the random generator used to initizalize the centroids\n",
    "# ---> ATTRIBUTES\n",
    "#model.cluster_centers_\n",
    "#model.labels_ : returns the label of each point\n",
    "#model.inertia_ :Sum of distances of samples to their closest cluster center.\n",
    "#model.transform(X,y): returns the distance to centroids of each points - hence allows to calculate the average distance to the centroids for each cluster\n",
    "# (and compare which cluster has the highest sum of distances)"
   ]
  },
  {
   "cell_type": "markdown",
   "metadata": {},
   "source": [
    "# PCA"
   ]
  },
  {
   "cell_type": "code",
   "execution_count": 290,
   "metadata": {
    "collapsed": false
   },
   "outputs": [],
   "source": [
    "from sklearn.decomposition import PCA\n",
    "from sklearn.decomposition import RandomizedPCA"
   ]
  },
  {
   "cell_type": "code",
   "execution_count": 526,
   "metadata": {
    "collapsed": true
   },
   "outputs": [],
   "source": [
    "# PARAMETERS AND METHODS FOR PCA\n",
    "# ---> PARAMETERS\n",
    "# n_components : number of eigenvectors to keep\n",
    "# copy: if true, fit(X).transform(X) will overwrite x - if false, it won't, you can use fit_transform(X) instead\n",
    "# whiten: if true, the eigen vectors are divided by (n_samples*valeur propre) - hence even out the differences in variance across eigen vectors\n",
    "# ---> ATTRIBUTES\n",
    "# components_: Principal axes in feature space, representing the directions of maximum variance in the data.\n",
    "# explained_variance_ratio_: Percentage of variance explained by each of the selected components.\n",
    "# ---> Methods\n",
    "# get_covariance() computes the covariance\n",
    "#transform(X) applies the transformation to X"
   ]
  },
  {
   "cell_type": "code",
   "execution_count": 517,
   "metadata": {
    "collapsed": true
   },
   "outputs": [],
   "source": [
    "from sklearn import covariance"
   ]
  },
  {
   "cell_type": "code",
   "execution_count": 253,
   "metadata": {
    "collapsed": true
   },
   "outputs": [
    {
     "name": "stdout",
     "output_type": "stream",
     "text": [
      "     Survived  Pclass  Sex        Age  SibSp  Parch      Fare  Embarked_C  \\\n",
      "0           0       3    0  22.000000      1      0    7.2500         0.0   \n",
      "1           1       1    1  38.000000      1      0   71.2833         1.0   \n",
      "2           1       3    1  26.000000      0      0    7.9250         0.0   \n",
      "3           1       1    1  35.000000      1      0   53.1000         0.0   \n",
      "4           0       3    0  35.000000      0      0    8.0500         0.0   \n",
      "5           0       3    0  29.699118      0      0    8.4583         0.0   \n",
      "6           0       1    0  54.000000      0      0   51.8625         0.0   \n",
      "7           0       3    0   2.000000      3      1   21.0750         0.0   \n",
      "8           1       3    1  27.000000      0      2   11.1333         0.0   \n",
      "9           1       2    1  14.000000      1      0   30.0708         1.0   \n",
      "10          1       3    1   4.000000      1      1   16.7000         0.0   \n",
      "11          1       1    1  58.000000      0      0   26.5500         0.0   \n",
      "12          0       3    0  20.000000      0      0    8.0500         0.0   \n",
      "13          0       3    0  39.000000      1      5   31.2750         0.0   \n",
      "14          0       3    1  14.000000      0      0    7.8542         0.0   \n",
      "15          1       2    1  55.000000      0      0   16.0000         0.0   \n",
      "16          0       3    0   2.000000      4      1   29.1250         0.0   \n",
      "17          1       2    0  29.699118      0      0   13.0000         0.0   \n",
      "18          0       3    1  31.000000      1      0   18.0000         0.0   \n",
      "19          1       3    1  29.699118      0      0    7.2250         1.0   \n",
      "20          0       2    0  35.000000      0      0   26.0000         0.0   \n",
      "21          1       2    0  34.000000      0      0   13.0000         0.0   \n",
      "22          1       3    1  15.000000      0      0    8.0292         0.0   \n",
      "23          1       1    0  28.000000      0      0   35.5000         0.0   \n",
      "24          0       3    1   8.000000      3      1   21.0750         0.0   \n",
      "25          1       3    1  38.000000      1      5   31.3875         0.0   \n",
      "26          0       3    0  29.699118      0      0    7.2250         1.0   \n",
      "27          0       1    0  19.000000      3      2  263.0000         0.0   \n",
      "28          1       3    1  29.699118      0      0    7.8792         0.0   \n",
      "29          0       3    0  29.699118      0      0    7.8958         0.0   \n",
      "..        ...     ...  ...        ...    ...    ...       ...         ...   \n",
      "861         0       2    0  21.000000      1      0   11.5000         0.0   \n",
      "862         1       1    1  48.000000      0      0   25.9292         0.0   \n",
      "863         0       3    1  29.699118      8      2   69.5500         0.0   \n",
      "864         0       2    0  24.000000      0      0   13.0000         0.0   \n",
      "865         1       2    1  42.000000      0      0   13.0000         0.0   \n",
      "866         1       2    1  27.000000      1      0   13.8583         1.0   \n",
      "867         0       1    0  31.000000      0      0   50.4958         0.0   \n",
      "868         0       3    0  29.699118      0      0    9.5000         0.0   \n",
      "869         1       3    0   4.000000      1      1   11.1333         0.0   \n",
      "870         0       3    0  26.000000      0      0    7.8958         0.0   \n",
      "871         1       1    1  47.000000      1      1   52.5542         0.0   \n",
      "872         0       1    0  33.000000      0      0    5.0000         0.0   \n",
      "873         0       3    0  47.000000      0      0    9.0000         0.0   \n",
      "874         1       2    1  28.000000      1      0   24.0000         1.0   \n",
      "875         1       3    1  15.000000      0      0    7.2250         1.0   \n",
      "876         0       3    0  20.000000      0      0    9.8458         0.0   \n",
      "877         0       3    0  19.000000      0      0    7.8958         0.0   \n",
      "878         0       3    0  29.699118      0      0    7.8958         0.0   \n",
      "879         1       1    1  56.000000      0      1   83.1583         1.0   \n",
      "880         1       2    1  25.000000      0      1   26.0000         0.0   \n",
      "881         0       3    0  33.000000      0      0    7.8958         0.0   \n",
      "882         0       3    1  22.000000      0      0   10.5167         0.0   \n",
      "883         0       2    0  28.000000      0      0   10.5000         0.0   \n",
      "884         0       3    0  25.000000      0      0    7.0500         0.0   \n",
      "885         0       3    1  39.000000      0      5   29.1250         0.0   \n",
      "886         0       2    0  27.000000      0      0   13.0000         0.0   \n",
      "887         1       1    1  19.000000      0      0   30.0000         0.0   \n",
      "888         0       3    1  29.699118      1      2   23.4500         0.0   \n",
      "889         1       1    0  26.000000      0      0   30.0000         1.0   \n",
      "890         0       3    0  32.000000      0      0    7.7500         0.0   \n",
      "\n",
      "     Embarked_Q  Embarked_S  \n",
      "0           0.0         1.0  \n",
      "1           0.0         0.0  \n",
      "2           0.0         1.0  \n",
      "3           0.0         1.0  \n",
      "4           0.0         1.0  \n",
      "5           1.0         0.0  \n",
      "6           0.0         1.0  \n",
      "7           0.0         1.0  \n",
      "8           0.0         1.0  \n",
      "9           0.0         0.0  \n",
      "10          0.0         1.0  \n",
      "11          0.0         1.0  \n",
      "12          0.0         1.0  \n",
      "13          0.0         1.0  \n",
      "14          0.0         1.0  \n",
      "15          0.0         1.0  \n",
      "16          1.0         0.0  \n",
      "17          0.0         1.0  \n",
      "18          0.0         1.0  \n",
      "19          0.0         0.0  \n",
      "20          0.0         1.0  \n",
      "21          0.0         1.0  \n",
      "22          1.0         0.0  \n",
      "23          0.0         1.0  \n",
      "24          0.0         1.0  \n",
      "25          0.0         1.0  \n",
      "26          0.0         0.0  \n",
      "27          0.0         1.0  \n",
      "28          1.0         0.0  \n",
      "29          0.0         1.0  \n",
      "..          ...         ...  \n",
      "861         0.0         1.0  \n",
      "862         0.0         1.0  \n",
      "863         0.0         1.0  \n",
      "864         0.0         1.0  \n",
      "865         0.0         1.0  \n",
      "866         0.0         0.0  \n",
      "867         0.0         1.0  \n",
      "868         0.0         1.0  \n",
      "869         0.0         1.0  \n",
      "870         0.0         1.0  \n",
      "871         0.0         1.0  \n",
      "872         0.0         1.0  \n",
      "873         0.0         1.0  \n",
      "874         0.0         0.0  \n",
      "875         0.0         0.0  \n",
      "876         0.0         1.0  \n",
      "877         0.0         1.0  \n",
      "878         0.0         1.0  \n",
      "879         0.0         0.0  \n",
      "880         0.0         1.0  \n",
      "881         0.0         1.0  \n",
      "882         0.0         1.0  \n",
      "883         0.0         1.0  \n",
      "884         0.0         1.0  \n",
      "885         1.0         0.0  \n",
      "886         0.0         1.0  \n",
      "887         0.0         1.0  \n",
      "888         0.0         1.0  \n",
      "889         0.0         0.0  \n",
      "890         1.0         0.0  \n",
      "\n",
      "[891 rows x 10 columns]\n"
     ]
    }
   ],
   "source": [
    "features_PCA = ['Survived', 'Pclass', 'Sex', 'Age', 'SibSp', 'Parch', 'Fare', 'Embarked_C', 'Embarked_Q', 'Embarked_S']\n",
    "data_PCA = data[features_PCA]\n",
    "data_PCA_scaled = scale(data_PCA)\n",
    "print data_PCA"
   ]
  },
  {
   "cell_type": "code",
   "execution_count": 525,
   "metadata": {
    "collapsed": false
   },
   "outputs": [
    {
     "data": {
      "text/plain": [
       "-12.691113234056406"
      ]
     },
     "execution_count": 525,
     "metadata": {},
     "output_type": "execute_result"
    }
   ],
   "source": [
    "# instantiate the covariance model\n",
    "data_cov = data_PCA[['Survived', 'Fare', 'Pclass', 'Age']]\n",
    "cov = covariance.EmpiricalCovariance(assume_centered = True)\n",
    "cov.fit(data_cov)\n",
    "cov.covariance_\n",
    "# log likelihood of a Gaussian distribution to fit the dataset\n",
    "cov.score(data_cov)"
   ]
  },
  {
   "cell_type": "code",
   "execution_count": 541,
   "metadata": {
    "collapsed": false
   },
   "outputs": [],
   "source": [
    "# Instantiate model\n",
    "pca = RandomizedPCA(n_components=10, whiten=True)"
   ]
  },
  {
   "cell_type": "code",
   "execution_count": 542,
   "metadata": {
    "collapsed": false
   },
   "outputs": [
    {
     "data": {
      "text/plain": [
       "RandomizedPCA(copy=True, iterated_power=3, n_components=10, random_state=None,\n",
       "       whiten=True)"
      ]
     },
     "execution_count": 542,
     "metadata": {},
     "output_type": "execute_result"
    }
   ],
   "source": [
    "pca.fit(data_PCA_scaled)"
   ]
  },
  {
   "cell_type": "code",
   "execution_count": 543,
   "metadata": {
    "collapsed": false
   },
   "outputs": [
    {
     "data": {
      "text/plain": [
       "array(['Survived', 'Pclass', 'Sex', 'Age', 'SibSp', 'Parch', 'Fare',\n",
       "       'Embarked_C', 'Embarked_Q', 'Embarked_S'], dtype=object)"
      ]
     },
     "execution_count": 543,
     "metadata": {},
     "output_type": "execute_result"
    }
   ],
   "source": [
    "data_PCA.columns.values"
   ]
  },
  {
   "cell_type": "code",
   "execution_count": 686,
   "metadata": {
    "collapsed": false
   },
   "outputs": [
    {
     "name": "stdout",
     "output_type": "stream",
     "text": [
      "[[  2.61247988e-01  -2.67381799e-01   2.13084515e-01   5.45353101e-02\n",
      "    1.58861496e-02   7.64618132e-02   2.81119807e-01   2.82718226e-01\n",
      "   -2.12304811e-04  -2.50292419e-01]\n",
      " [  1.18367649e-01   7.51414365e-03   2.09412109e-01  -2.19762252e-01\n",
      "    3.52060239e-01   3.79699401e-01   1.23631186e-01  -2.02824570e-01\n",
      "   -1.84219324e-01   2.94173150e-01]\n",
      " [  1.79388226e-02   3.60256657e-01   1.43720030e-01  -3.23485459e-01\n",
      "    1.69839835e-01   1.28159952e-01  -1.67240249e-01   1.01507254e-01\n",
      "    4.00735107e-01  -3.37847584e-01]\n",
      " [ -4.67780801e-01   1.28167558e-02  -4.42468587e-01  -5.06448224e-02\n",
      "    3.26844616e-01   2.09892447e-01   1.92705218e-01   3.69804519e-01\n",
      "   -2.35383666e-01  -1.70457147e-01]\n",
      " [ -2.17414456e-01  -1.59444599e-01  -5.04988523e-02   5.32362971e-01\n",
      "    2.68587752e-01   1.91311821e-01   2.63099586e-01  -3.81758807e-01\n",
      "    5.95038950e-01  -4.43224479e-02]\n",
      " [  1.12933012e-01  -2.80773540e-01  -3.99812095e-01  -7.05953355e-01\n",
      "    8.95572340e-02  -5.22584385e-01   5.28943750e-01  -2.70313667e-01\n",
      "    2.88318194e-01   5.81792599e-02]\n",
      " [ -1.26728792e-01   1.50916600e-02  -2.11510497e-01  -2.77201761e-01\n",
      "   -9.54590164e-01   7.91785693e-01   3.04836075e-01  -1.13900250e-01\n",
      "    1.56695705e-01   6.02235314e-03]\n",
      " [ -8.49587317e-01   4.02941592e-01   9.04752473e-01  -6.32987201e-02\n",
      "   -2.13921792e-01  -4.18954378e-01   6.83358008e-01   6.45461889e-03\n",
      "   -1.30379101e-01   7.25954352e-02]\n",
      " [  7.50085575e-01   1.20154163e+00  -4.50338527e-01   4.81142482e-01\n",
      "    6.68821844e-03  -1.06415470e-01   7.63525309e-01   2.65626450e-02\n",
      "   -1.56325306e-01   7.63971286e-02]\n",
      " [ -2.02753554e-02   3.62582217e-02  -5.75317131e-02  -6.30604631e-02\n",
      "    1.12081868e-03   2.73389265e-02  -1.31366949e-02  -8.31708106e+00\n",
      "   -5.99462533e+00  -9.51843585e+00]]\n"
     ]
    }
   ],
   "source": [
    "# return the coordinate of the nex axis on former axis\n",
    "components = pca.components_"
   ]
  },
  {
   "cell_type": "code",
   "execution_count": 545,
   "metadata": {
    "collapsed": false
   },
   "outputs": [
    {
     "name": "stdout",
     "output_type": "stream",
     "text": [
      "0.644845491836\n",
      "0.742449572175\n",
      "0.783376111415\n",
      "0.909153744006\n",
      "1.01901359037\n",
      "1.21255334311\n",
      "1.34406864769\n",
      "1.55477272938\n",
      "1.75098632789\n",
      "13.9899937383\n"
     ]
    }
   ],
   "source": [
    "# check the norm of eigen vectors\n",
    "from numpy import linalg as LA\n",
    "for vector in components:\n",
    "    print LA.norm(vector)"
   ]
  },
  {
   "cell_type": "code",
   "execution_count": 258,
   "metadata": {
    "collapsed": false
   },
   "outputs": [
    {
     "name": "stdout",
     "output_type": "stream",
     "text": [
      "[ 0.24048537  0.18141203  0.16295187  0.12098328  0.09630305  0.068014\n",
      "  0.05535503  0.04136816  0.03261628  0.00051093]\n"
     ]
    }
   ],
   "source": [
    "# returns the % of the variance explained by each vecto\n",
    "explained_variance = pca.explained_variance_ratio_\n",
    "print (pca.explained_variance_ratio_)"
   ]
  },
  {
   "cell_type": "code",
   "execution_count": 259,
   "metadata": {
    "collapsed": false
   },
   "outputs": [
    {
     "data": {
      "text/plain": [
       "[<matplotlib.lines.Line2D at 0x124712210>]"
      ]
     },
     "execution_count": 259,
     "metadata": {},
     "output_type": "execute_result"
    },
    {
     "data": {
      "image/png": "[encoded data removed]",
      "text/plain": [
       "<matplotlib.figure.Figure at 0x124624890>"
      ]
     },
     "metadata": {},
     "output_type": "display_data"
    }
   ],
   "source": [
    "# plot the cumulated explained variance\n",
    "cum_expl_variance = np.cumsum(explained_variance)\n",
    "plt.plot(cum_expl_variance)"
   ]
  },
  {
   "cell_type": "code",
   "execution_count": 260,
   "metadata": {
    "collapsed": false
   },
   "outputs": [],
   "source": [
    "# transformer la donnée\n",
    "data_transformed = pca.transform(data_PCA_scaled)"
   ]
  },
  {
   "cell_type": "code",
   "execution_count": 274,
   "metadata": {
    "collapsed": false
   },
   "outputs": [
    {
     "name": "stderr",
     "output_type": "stream",
     "text": [
      "/Users/louis/Library/Enthought/Canopy_64bit/User/lib/python2.7/site-packages/matplotlib/axes/_axes.py:519: UserWarning: No labelled objects found. Use label='...' kwarg on individual plots.\n",
      "  warnings.warn(\"No labelled objects found. \"\n"
     ]
    },
    {
     "data": {
      "image/png": "[encoded data removed]",
      "text/plain": [
       "<matplotlib.figure.Figure at 0x124b45990>"
      ]
     },
     "metadata": {},
     "output_type": "display_data"
    }
   ],
   "source": [
    "plt.scatter(data_transformed[:,0], data_transformed[:,1], c = data_PCA['Survived'])"
   ]
  },
  {
   "cell_type": "code",
   "execution_count": null,
   "metadata": {
    "collapsed": true
   },
   "outputs": [],
   "source": []
  },
  {
   "cell_type": "markdown",
   "metadata": {},
   "source": [
    "# Logistic regression"
   ]
  },
  {
   "cell_type": "code",
   "execution_count": 306,
   "metadata": {
    "collapsed": true
   },
   "outputs": [],
   "source": [
    "from sklearn import linear_model\n",
    "from sklearn.cross_validation import train_test_split\n",
    "from sklearn import cross_validation\n",
    "from sklearn import metrics"
   ]
  },
  {
   "cell_type": "code",
   "execution_count": 429,
   "metadata": {
    "collapsed": true
   },
   "outputs": [],
   "source": [
    "# ---> PARAMETERS\n",
    "#penalty:specifies the norm used in the penalization'l1' or 'l2'\n",
    "#dual : dual=False when n_samples > n_features - choose between dual or primal formulation of the minimization problem\n",
    "#C: inverse of lambda, penalizing parameter - samller values of C specify a stronger penalization\n",
    "#fit_intercept: Theta0 is not null if True\n",
    "# intercept_scaling: the weight given to the intercept\n",
    "# class_weight : can be a dictionnary or 'balanced' - 'balanced' is by default n_samples / (n_classes * np.bincount(y))\n",
    "# max_iter : maximum of iterations taken by the solver to converge\n",
    "# random_state: the seed of the pseudo random generator used when shuffling the data\n",
    "# solver : {‘newton-cg’, ‘lbfgs’, ‘liblinear’, ‘sag’}\n",
    "# multi_class :{‘ovr’, ‘multinomial’} -> one versus rest (paralell boolen output) or multinomial (direct modelisation of more than 2 classes)\n",
    "# ---> ATTRIBUTES\n",
    "# coef_: coefficients of the regression\n",
    "# intercept_: bias added to the decision function\n",
    "# n_iter_: number of iterations performed - If binary or multinomial, it returns only 1 element. For liblinear solver, only the maximum number of iteration across all classes is given."
   ]
  },
  {
   "cell_type": "code",
   "execution_count": 297,
   "metadata": {
    "collapsed": true
   },
   "outputs": [],
   "source": [
    "features = ['Pclass', 'Sex', 'Age', 'SibSp', 'Parch', 'Fare', 'Embarked_C', 'Embarked_Q', 'Embarked_S']\n",
    "data_model = preprocessing_model(data_train, features)"
   ]
  },
  {
   "cell_type": "code",
   "execution_count": 298,
   "metadata": {
    "collapsed": true
   },
   "outputs": [],
   "source": [
    "X_train, X_test, y_train, y_test = cross_validation.train_test_split(data_model, data_train['Survived'], test_size=0.2, random_state=0)"
   ]
  },
  {
   "cell_type": "code",
   "execution_count": 427,
   "metadata": {
    "collapsed": false
   },
   "outputs": [],
   "source": [
    "# Instantiate the model\n",
    "log_reg = linear_model.LogisticRegression(class_weight = {1: 0.4, 0:0.6})\n",
    "# Train the model\n",
    "log_reg.fit(X_train, y_train)\n",
    "# Predict\n",
    "y_train_predict = log_reg.predict(X_train)\n",
    "y_test_predict = log_reg.predict(X_test)"
   ]
  },
  {
   "cell_type": "code",
   "execution_count": 428,
   "metadata": {
    "collapsed": false
   },
   "outputs": [
    {
     "name": "stdout",
     "output_type": "stream",
     "text": [
      "---------------Results on test-------------\n",
      "F score 0.72131147541\n",
      "Accuracy 0.810055865922\n",
      "---------------Results on training-----------\n",
      "F score 0.733606557377\n",
      "Accuracy 0.817415730337\n"
     ]
    }
   ],
   "source": [
    "# Test metrics\n",
    "print '---------------Results on test-------------'\n",
    "print 'F score %s' %metrics.f1_score(y_test, y_test_predict)\n",
    "print 'Accuracy %s'%metrics.accuracy_score(y_test, y_test_predict)\n",
    "print '---------------Results on training-----------'\n",
    "print 'F score %s' %metrics.f1_score(y_train, y_train_predict)\n",
    "print 'Accuracy %s'%metrics.accuracy_score(y_train, y_train_predict)"
   ]
  },
  {
   "cell_type": "code",
   "execution_count": 331,
   "metadata": {
    "collapsed": true
   },
   "outputs": [
    {
     "name": "stdout",
     "output_type": "stream",
     "text": [
      "[0.71641791044776126, 0.71111111111111103, 0.71641791044776126, 0.72180451127819545, 0.71641791044776126, 0.72592592592592597, 0.73529411764705888, 0.73529411764705888, 0.73529411764705888, 0.73529411764705888, 0.74452554744525556, 0.74452554744525556, 0.74452554744525556, 0.74452554744525556, 0.74452554744525556, 0.74452554744525556, 0.74452554744525556, 0.74452554744525556, 0.74452554744525556]\n",
      "[0.7991573033707865, 0.8019662921348315, 0.800561797752809, 0.8033707865168539, 0.8033707865168539, 0.8019662921348315, 0.7991573033707865, 0.7991573033707865, 0.7991573033707865, 0.7991573033707865, 0.7991573033707865, 0.797752808988764, 0.797752808988764, 0.797752808988764, 0.7991573033707865, 0.7991573033707865, 0.7991573033707865, 0.7991573033707865, 0.7991573033707865]\n"
     ]
    }
   ],
   "source": [
    "F_score = []\n",
    "Accuracy = []\n",
    "\n",
    "for i in range(1,20):\n",
    "    # Instantiate the model\n",
    "    log_reg = linear_model.LogisticRegression(C = i*0.1)\n",
    "    # Train the model\n",
    "    log_reg.fit(X_train, y_train)\n",
    "    # Predict\n",
    "    y_train_predict = log_reg.predict(X_train)\n",
    "    y_test_predict = log_reg.predict(X_test)\n",
    "    # Assess performance\n",
    "    f = metrics.f1_score(y_test, y_test_predict)\n",
    "    F_score.append(f)\n",
    "    a = metrics.accuracy_score(y_train, y_train_predict)\n",
    "    Accuracy.append(a)\n",
    "                       \n",
    "print F_score\n",
    "print Accuracy"
   ]
  },
  {
   "cell_type": "code",
   "execution_count": 332,
   "metadata": {
    "collapsed": false
   },
   "outputs": [
    {
     "data": {
      "text/plain": [
       "[<matplotlib.lines.Line2D at 0x124f17050>]"
      ]
     },
     "execution_count": 332,
     "metadata": {},
     "output_type": "execute_result"
    },
    {
     "data": {
      "image/png": "[encoded data removed]",
      "text/plain": [
       "<matplotlib.figure.Figure at 0x12553b490>"
      ]
     },
     "metadata": {},
     "output_type": "display_data"
    }
   ],
   "source": [
    "plt.plot(F_score)\n",
    "plt.plot(Accuracy)\n"
   ]
  },
  {
   "cell_type": "code",
   "execution_count": 436,
   "metadata": {
    "collapsed": false
   },
   "outputs": [
    {
     "data": {
      "text/plain": [
       "0.81741573033707871"
      ]
     },
     "execution_count": 436,
     "metadata": {},
     "output_type": "execute_result"
    }
   ],
   "source": [
    "# ---> METHODS associated ti Logistic Regression\n",
    "#log_reg.decision_function(X_train) : provides confidenc scores for all samples, The confidence score for a sample is the signed distance of that sample to the hyperplane.\n",
    "#log_reg.predict_proba(X_train): returns the proba for each sample to belong to each of the class (2 if 2 classes, more if ovr or multiclass)\n",
    "log_reg.score(X_train, y_train) # mean accuracy on the given test data and labels"
   ]
  },
  {
   "cell_type": "markdown",
   "metadata": {},
   "source": [
    "# Grid Search"
   ]
  },
  {
   "cell_type": "code",
   "execution_count": 551,
   "metadata": {
    "collapsed": false
   },
   "outputs": [],
   "source": [
    "from sklearn import grid_search\n",
    "# GRID SEARCH\n",
    "# By default, grid search optimizes on the accuracy_score for classification and r2_score for regression\n",
    "# ---> PARAMETERS\n",
    "# estimator: model used\n",
    "# param_grid : list of parameters to test\n",
    "# scoring: metric to optimize (accuracy_score and r2_score by default)\n",
    "# fit_params: parameters  to pass to fit the method\n",
    "# n_jobs: number of jobs to run in //\n",
    "# cv : determines the cross-validation splitting strategy - Note: 3-fold cv, integer: specifies the # of folds, an object as a cross validation generator (see cross_validation doc)\n",
    "# ---> ATTRIBUTES\n",
    "#grid_scores_: returns a hash with parameters, mean_validation_score, and cv_validation_scores for each set of parameters\n",
    "# best_estimator_: returns the best estimate\n",
    "# best_params_: returns the best params "
   ]
  },
  {
   "cell_type": "code",
   "execution_count": 337,
   "metadata": {
    "collapsed": true
   },
   "outputs": [],
   "source": [
    "# Instantiate the model\n",
    "log_reg = linear_model.LogisticRegression()\n"
   ]
  },
  {
   "cell_type": "code",
   "execution_count": 343,
   "metadata": {
    "collapsed": false
   },
   "outputs": [],
   "source": [
    "parameters = {'C': [i*0.1 for i in range(1,20)], 'fit_intercept': [True, False]}\n",
    "clf = grid_search.GridSearchCV(log_reg, parameters, cv = 3)"
   ]
  },
  {
   "cell_type": "code",
   "execution_count": 344,
   "metadata": {
    "collapsed": false
   },
   "outputs": [],
   "source": [
    "# Train the model\n",
    "clf.fit(X_train, y_train)\n",
    "# Predict\n",
    "y_train_predict = clf.predict(X_train)\n",
    "y_test_predict = clf.predict(X_test)"
   ]
  },
  {
   "cell_type": "code",
   "execution_count": 345,
   "metadata": {
    "collapsed": false
   },
   "outputs": [
    {
     "data": {
      "text/plain": [
       "{'C': 0.1, 'fit_intercept': True}"
      ]
     },
     "execution_count": 345,
     "metadata": {},
     "output_type": "execute_result"
    }
   ],
   "source": [
    "clf.best_params_"
   ]
  },
  {
   "cell_type": "code",
   "execution_count": 346,
   "metadata": {
    "collapsed": false
   },
   "outputs": [
    {
     "name": "stdout",
     "output_type": "stream",
     "text": [
      "---------------Results on test-------------\n",
      "F score 0.716417910448\n",
      "Accuracy 0.787709497207\n",
      "---------------Results on training-----------\n",
      "F score 0.71905697446\n",
      "Accuracy 0.799157303371\n"
     ]
    }
   ],
   "source": [
    "# Test metrics\n",
    "print '---------------Results on test-------------'\n",
    "print 'F score %s' %metrics.f1_score(y_test, y_test_predict)\n",
    "print 'Accuracy %s'%metrics.accuracy_score(y_test, y_test_predict)\n",
    "print '---------------Results on training-----------'\n",
    "print 'F score %s' %metrics.f1_score(y_train, y_train_predict)\n",
    "print 'Accuracy %s'%metrics.accuracy_score(y_train, y_train_predict)"
   ]
  },
  {
   "cell_type": "markdown",
   "metadata": {},
   "source": [
    "# Random trees"
   ]
  },
  {
   "cell_type": "code",
   "execution_count": 352,
   "metadata": {
    "collapsed": true
   },
   "outputs": [],
   "source": [
    "from sklearn import tree"
   ]
  },
  {
   "cell_type": "code",
   "execution_count": 363,
   "metadata": {
    "collapsed": true
   },
   "outputs": [],
   "source": [
    "# train test split allows to split the data set into training and test set\n",
    "X_train, X_test, y_train, y_test = cross_validation.train_test_split(data_model, data_train['Survived'], test_size=0.2, random_state=0)"
   ]
  },
  {
   "cell_type": "code",
   "execution_count": 366,
   "metadata": {
    "collapsed": false
   },
   "outputs": [],
   "source": [
    "# define parameters\n",
    "parameters = {'min_samples_split': [i*10 for i in range(1,100)]}\n",
    "# instantiate model\n",
    "decision_tree = tree.DecisionTreeClassifier()\n",
    "# launch grid search\n",
    "clf = grid_search.GridSearchCV(decision_tree, parameters, cv = 3)\n",
    "clf.fit(X_train, y_train)\n",
    "y_test_predict = clf.predict(X_test)\n",
    "y_train_predict = clf.predict(X_train)"
   ]
  },
  {
   "cell_type": "code",
   "execution_count": 367,
   "metadata": {
    "collapsed": false
   },
   "outputs": [
    {
     "name": "stdout",
     "output_type": "stream",
     "text": [
      "---------------Results on test-------------\n",
      "F score 0.717557251908\n",
      "Accuracy 0.793296089385\n",
      "---------------Results on training-----------\n",
      "F score 0.781132075472\n",
      "Accuracy 0.837078651685\n"
     ]
    }
   ],
   "source": [
    "# Test metrics\n",
    "print '---------------Results on test-------------'\n",
    "print 'F score %s' %metrics.f1_score(y_test, y_test_predict)\n",
    "print 'Accuracy %s'%metrics.accuracy_score(y_test, y_test_predict)\n",
    "print '---------------Results on training-----------'\n",
    "print 'F score %s' %metrics.f1_score(y_train, y_train_predict)\n",
    "print 'Accuracy %s'%metrics.accuracy_score(y_train, y_train_predict)"
   ]
  },
  {
   "cell_type": "code",
   "execution_count": 550,
   "metadata": {
    "collapsed": false
   },
   "outputs": [
    {
     "data": {
      "text/plain": [
       "(array([ 0.8015873 ,  0.83018868]),\n",
       " array([ 0.91818182,  0.63768116]),\n",
       " array([ 0.8559322 ,  0.72131148]),\n",
       " array([110,  69]))"
      ]
     },
     "execution_count": 550,
     "metadata": {},
     "output_type": "execute_result"
    }
   ],
   "source": [
    "# METRICS DOCS\n",
    "#metrics.precision_recall_fscore_support(...): computes precision recall and fscore\n",
    "metrics.precision_recall_fscore_support(y_test, y_test_predict)"
   ]
  },
  {
   "cell_type": "code",
   "execution_count": 368,
   "metadata": {
    "collapsed": false
   },
   "outputs": [
    {
     "data": {
      "text/plain": [
       "{'min_samples_split': 60}"
      ]
     },
     "execution_count": 368,
     "metadata": {},
     "output_type": "execute_result"
    }
   ],
   "source": [
    "clf.best_params_"
   ]
  },
  {
   "cell_type": "markdown",
   "metadata": {},
   "source": [
    "# Linear Regression (training)"
   ]
  },
  {
   "cell_type": "code",
   "execution_count": 380,
   "metadata": {
    "collapsed": false
   },
   "outputs": [],
   "source": [
    "from sklearn import linear_model"
   ]
  },
  {
   "cell_type": "code",
   "execution_count": 412,
   "metadata": {
    "collapsed": false
   },
   "outputs": [],
   "source": [
    "lin_reg = linear_model.LinearRegression(fit_intercept = True, normalize = True, copy_X = False, n_jobs = -1)\n",
    "# ---> PARAMS\n",
    "# fit_intercept : Theta0 = 0 if False (i.e., assume data is already centered) - careful with this one!\n",
    "# normalize: Features are normalized upfront if True\n",
    "# copy_X: makes a copy of features\n",
    "# n_jobs: number of CPUs to use for the computation. If -1, all CPUs are used.\n",
    "# ---> ATTRIBUTES\n",
    "# coef_: returns the estimated coefficients for the linear regression model\n",
    "# intercept_: returns Theta0"
   ]
  },
  {
   "cell_type": "code",
   "execution_count": 413,
   "metadata": {
    "collapsed": false
   },
   "outputs": [],
   "source": [
    "# Try to predict the age knowing the class and the Fare paid\n",
    "features = ['Fare', 'Pclass', 'Age']\n",
    "data_linreg = preprocessing_model(data, features)\n",
    "X_reg = data_linreg[['Fare', 'Pclass']]\n",
    "Y_reg = data_linreg['Age']"
   ]
  },
  {
   "cell_type": "code",
   "execution_count": 414,
   "metadata": {
    "collapsed": false
   },
   "outputs": [
    {
     "data": {
      "text/plain": [
       "LinearRegression(copy_X=False, fit_intercept=True, n_jobs=-1, normalize=True)"
      ]
     },
     "execution_count": 414,
     "metadata": {},
     "output_type": "execute_result"
    }
   ],
   "source": [
    "# train the model\n",
    "# note: one can add the sample_weight - which corresponds to the weight of each line in the training of the model\n",
    "lin_reg.fit(X_reg, Y_reg)"
   ]
  },
  {
   "cell_type": "code",
   "execution_count": 415,
   "metadata": {
    "collapsed": true
   },
   "outputs": [],
   "source": [
    "# predict a Y based on a X\n",
    "Y_pred = lin_reg.predict(X_reg)"
   ]
  },
  {
   "cell_type": "code",
   "execution_count": 416,
   "metadata": {
    "collapsed": false
   },
   "outputs": [
    {
     "data": {
      "text/plain": [
       "{'copy_X': False, 'fit_intercept': True, 'n_jobs': -1, 'normalize': True}"
      ]
     },
     "execution_count": 416,
     "metadata": {},
     "output_type": "execute_result"
    }
   ],
   "source": [
    "# get params of the model\n",
    "lin_reg.get_params(deep=True)"
   ]
  },
  {
   "cell_type": "code",
   "execution_count": 417,
   "metadata": {
    "collapsed": false
   },
   "outputs": [
    {
     "data": {
      "text/plain": [
       "0.12151957298981542"
      ]
     },
     "execution_count": 417,
     "metadata": {},
     "output_type": "execute_result"
    }
   ],
   "source": [
    "# get R-squared\n",
    "lin_reg.score(X_reg, Y_reg)"
   ]
  },
  {
   "cell_type": "code",
   "execution_count": 418,
   "metadata": {
    "collapsed": false
   },
   "outputs": [
    {
     "name": "stdout",
     "output_type": "stream",
     "text": [
      "linear_coeff [-0.03392305 -6.26070135]:\n",
      "intercept 45.2453006578:\n"
     ]
    }
   ],
   "source": [
    "# get coefficients\n",
    "print 'linear_coeff %s:' %lin_reg.coef_\n",
    "print 'intercept %s:' %lin_reg.intercept_"
   ]
  },
  {
   "cell_type": "code",
   "execution_count": 830,
   "metadata": {
    "collapsed": false
   },
   "outputs": [
    {
     "name": "stdout",
     "output_type": "stream",
     "text": [
      "[-0.03392305 -6.26070135]\n"
     ]
    }
   ],
   "source": [
    "coeff = lin_reg.coef_\n",
    "print coeff"
   ]
  },
  {
   "cell_type": "code",
   "execution_count": 409,
   "metadata": {
    "collapsed": false
   },
   "outputs": [
    {
     "data": {
      "image/png": "[encoded data removed]",
      "text/plain": [
       "<matplotlib.figure.Figure at 0x12718f3d0>"
      ]
     },
     "metadata": {},
     "output_type": "display_data"
    }
   ],
   "source": [
    "colors = {1: 'blue', 2:'green', 3:'red'}\n",
    "plt.figure(figsize=(8, 6))\n",
    "plt.scatter(Y_reg, X_reg['Fare'], c = X_reg['Pclass'].map(colors), marker = 'x')\n",
    "plt.xlabel('Age', fontsize=18)\n",
    "plt.ylabel('Fare', fontsize = 18)\n",
    "plt.ylim((0,600))\n",
    "plt.xlim((0,85))\n",
    "plt.legend()\n",
    "plt.legend(loc=\"upper left\", markerscale=0.7, scatterpoints=1, fontsize=10)\n",
    "plt.grid(True)"
   ]
  },
  {
   "cell_type": "code",
   "execution_count": 554,
   "metadata": {
    "collapsed": false
   },
   "outputs": [
    {
     "data": {
      "text/plain": [
       "array(['PassengerId', 'Survived', 'Pclass', 'Name', 'Sex', 'Age', 'SibSp',\n",
       "       'Parch', 'Ticket', 'Fare', 'Cabin', 'Embarked'], dtype=object)"
      ]
     },
     "execution_count": 554,
     "metadata": {},
     "output_type": "execute_result"
    }
   ],
   "source": [
    "# Plot distribution of death on Age\n",
    "pd.pivot_table(data, index = [\"Age\"])"
   ]
  },
  {
   "cell_type": "markdown",
   "metadata": {},
   "source": [
    "# Scale"
   ]
  },
  {
   "cell_type": "code",
   "execution_count": 511,
   "metadata": {
    "collapsed": false
   },
   "outputs": [],
   "source": [
    "from sklearn import preprocessing\n",
    "# scale allows to scale a dataset along any axis (1 if we normalize each sample, à if we normalize features)"
   ]
  },
  {
   "cell_type": "code",
   "execution_count": 514,
   "metadata": {
    "collapsed": false
   },
   "outputs": [
    {
     "name": "stdout",
     "output_type": "stream",
     "text": [
      "6.77846605383e-17\n"
     ]
    }
   ],
   "source": [
    "data_norm = scale(data_K, with_mean = True, with_std = True, copy = False, axis = 0)\n",
    "print data_norm.mean()"
   ]
  },
  {
   "cell_type": "code",
   "execution_count": 516,
   "metadata": {
    "collapsed": false
   },
   "outputs": [
    {
     "name": "stdout",
     "output_type": "stream",
     "text": [
      "1.0\n"
     ]
    }
   ],
   "source": [
    "print data_norm.std()"
   ]
  },
  {
   "cell_type": "markdown",
   "metadata": {},
   "source": [
    "# Support Vector Machine"
   ]
  },
  {
   "cell_type": "code",
   "execution_count": 581,
   "metadata": {
    "collapsed": true
   },
   "outputs": [],
   "source": [
    "from sklearn import svm"
   ]
  },
  {
   "cell_type": "code",
   "execution_count": 584,
   "metadata": {
    "collapsed": true
   },
   "outputs": [],
   "source": [
    "# Support vector machine doc\n",
    "# --> Parameters\n",
    "# C: penalty parameter\n",
    "# kernel: 'linear', 'poly', 'rbf', 'sigmoid' - 'rbf' by default\n",
    "# degree: degree of the polynomial kernel function (if poly)\n",
    "# gamma: kernel coefficient for 'rbf', 'poly', and 'sigmoid' - if 'auto', 1/n will be used instead\n",
    "# coef0: Independant term in kernel function\n",
    "# probabiliy : boolean - whether to calculate the probabilities of the classifier or not\n",
    "# class_weight: 'balanced' automatically adjust in function of class frequencies\n",
    "# --> Attributes\n",
    "# support_: indices of support vector\n",
    "# support_vectors: returns support vectors\n",
    "# n_support : number of support vectors for each class\n",
    "# coef_: weight to each feature (only available in the case of linear kernel)\n",
    "# intercept: constants in decision function\n",
    "# --> Methods\n",
    "#decision_function(X): distance of the samples X to the separating hyperplane\n",
    "# get_params : get params for the estimator"
   ]
  },
  {
   "cell_type": "code",
   "execution_count": 591,
   "metadata": {
    "collapsed": false
   },
   "outputs": [
    {
     "data": {
      "text/plain": [
       "GridSearchCV(cv=3, error_score='raise',\n",
       "       estimator=SVC(C=1.0, cache_size=200, class_weight=None, coef0=0.0,\n",
       "  decision_function_shape=None, degree=3, gamma='auto', kernel='rbf',\n",
       "  max_iter=-1, probability=False, random_state=None, shrinking=True,\n",
       "  tol=0.001, verbose=False),\n",
       "       fit_params={}, iid=True, n_jobs=1,\n",
       "       param_grid={'kernel': ['linear', 'sigmoid'], 'C': [0.1, 0.2, 0.30000000000000004, 0.4, 0.5, 0.6000000000000001, 0.7000000000000001, 0.8, 0.9, 1.0, 1.1, 1.2000000000000002, 1.3, 1.4000000000000001, 1.5, 1.6, 1.7000000000000002, 1.8, 1.9000000000000001]},\n",
       "       pre_dispatch='2*n_jobs', refit=True, scoring=None, verbose=0)"
      ]
     },
     "execution_count": 591,
     "metadata": {},
     "output_type": "execute_result"
    }
   ],
   "source": [
    "# Try out different values of clusters and choose based on the sum of distances to the centroids\n",
    "from sklearn import grid_search\n",
    "# Instantiate the model\n",
    "svc = svm.SVC()\n",
    "# Define parameters\n",
    "parameters = {'C': [i*0.1 for i in range(1,20)], 'kernel': ['linear', 'sigmoid']}\n",
    "# instantiate the grid search\n",
    "clf = grid_search.GridSearchCV(svc, parameters, cv = 3)\n",
    "clf.fit(X_train, y_train)"
   ]
  },
  {
   "cell_type": "markdown",
   "metadata": {},
   "source": [
    "# Cross Validation scores"
   ]
  },
  {
   "cell_type": "code",
   "execution_count": 595,
   "metadata": {
    "collapsed": false
   },
   "outputs": [],
   "source": [
    "from sklearn import cross_validation"
   ]
  },
  {
   "cell_type": "code",
   "execution_count": null,
   "metadata": {
    "collapsed": true
   },
   "outputs": [],
   "source": [
    "# DOC CROSS VALIDATION\n",
    "# ---> Parameters\n",
    "# estimator, X, y: model to use, features, target (no need to split into training and test)\n",
    "# scoring: metrics used\n",
    "# cv: # folds\n",
    "# fit_params: parameters to pass to the fit method"
   ]
  },
  {
   "cell_type": "code",
   "execution_count": 593,
   "metadata": {
    "collapsed": false
   },
   "outputs": [
    {
     "data": {
      "text/plain": [
       "{'C': 0.2, 'kernel': 'linear'}"
      ]
     },
     "execution_count": 593,
     "metadata": {},
     "output_type": "execute_result"
    }
   ],
   "source": [
    "svc = svm.SVC(C = 0.2, kernel = 'linear')"
   ]
  },
  {
   "cell_type": "code",
   "execution_count": 604,
   "metadata": {
    "collapsed": false
   },
   "outputs": [
    {
     "name": "stdout",
     "output_type": "stream",
     "text": [
      "[ 0.40944882  0.57575758  0.592       0.58181818  0.6031746 ]\n",
      "[ 0.58100559  0.68715084  0.71348315  0.74157303  0.71751412]\n"
     ]
    }
   ],
   "source": [
    "scores_f1 = cross_validation.cross_val_score(svc, data_model, data_train['Survived'], cv = 5, scoring = 'f1')\n",
    "scores_accuracy = cross_validation.cross_val_score(svc, data_model, data_train['Survived'], cv = 5, scoring = 'accuracy')\n",
    "print scores_f1\n",
    "print scores_accuracy"
   ]
  },
  {
   "cell_type": "markdown",
   "metadata": {},
   "source": [
    "# Neural network"
   ]
  },
  {
   "cell_type": "code",
   "execution_count": 606,
   "metadata": {
    "collapsed": false
   },
   "outputs": [],
   "source": [
    "import pybrain"
   ]
  },
  {
   "cell_type": "code",
   "execution_count": 607,
   "metadata": {
    "collapsed": true
   },
   "outputs": [],
   "source": [
    "from pybrain.tools.shortcuts import buildNetwork\n",
    "from pybrain.supervised.trainers import BackpropTrainer"
   ]
  },
  {
   "cell_type": "code",
   "execution_count": 610,
   "metadata": {
    "collapsed": false
   },
   "outputs": [],
   "source": [
    "from sklearn import neural_network\n",
    "from sklearn import linear_model"
   ]
  },
  {
   "cell_type": "code",
   "execution_count": 611,
   "metadata": {
    "collapsed": true
   },
   "outputs": [],
   "source": [
    "# Neural network doc\n",
    "# ---> PARAMETERS\n",
    "# hidden_layer_sizes: ith element represents the size of the ith hidden layer\n",
    "# algorithm: ‘l-bfgs’ quasi-Newton - 'sgd': stochastic gradient descent - 'adam': similar to stochastic gradient descent\n",
    "# alpha : L2 penalty\n",
    "# batch_size : size of mini batches in gradient descent\n",
    "# learning_rate: 'constant' : constant, given by learning_rate_init, 'invscaling': decreases the learning rate at each step, 'adaptive': keeps learning rate\n",
    "# constant as long as training loss keeps decreasing\n",
    "# shuffle: Whether to shuffle samples in each iteration. Only used when algorithm=’sgd’ or ‘adam’.\n",
    "# learning_rate_init: The initial learning rate used.\n",
    "# power_t : The exponent for inverse scaling learning rate. It is used in updating effective learning rate when the learning_rate is set to ‘invscaling’. Only used when algorithm=’sgd’.\n",
    "# ---> ATTRIBUTES\n",
    "# classes_: class label for each output\n",
    "# loss: the current loss computer with the loss function (cost function)\n",
    "# ---> METHODS\n",
    "# predict_proba(X)"
   ]
  },
  {
   "cell_type": "code",
   "execution_count": 614,
   "metadata": {
    "collapsed": false
   },
   "outputs": [
    {
     "ename": "AttributeError",
     "evalue": "'module' object has no attribute 'MLPClassifier'",
     "output_type": "error",
     "traceback": [
      "\u001b[0;31m---------------------------------------------------------------------------\u001b[0m",
      "\u001b[0;31mAttributeError\u001b[0m                            Traceback (most recent call last)",
      "\u001b[0;32m<ipython-input-614-99f58042cf11>\u001b[0m in \u001b[0;36m<module>\u001b[0;34m()\u001b[0m\n\u001b[0;32m----> 1\u001b[0;31m \u001b[0mnet\u001b[0m \u001b[0;34m=\u001b[0m \u001b[0mneural_network\u001b[0m\u001b[0;34m.\u001b[0m\u001b[0mMLPClassifier\u001b[0m\u001b[0;34m(\u001b[0m\u001b[0mhidden_layer_size\u001b[0m \u001b[0;34m=\u001b[0m \u001b[0;34m(\u001b[0m\u001b[0;36m100\u001b[0m\u001b[0;34m,\u001b[0m\u001b[0;36m100\u001b[0m\u001b[0;34m)\u001b[0m\u001b[0;34m,\u001b[0m \u001b[0mactivation\u001b[0m \u001b[0;34m=\u001b[0m \u001b[0;34m'logistic'\u001b[0m\u001b[0;34m)\u001b[0m\u001b[0;34m\u001b[0m\u001b[0m\n\u001b[0m",
      "\u001b[0;31mAttributeError\u001b[0m: 'module' object has no attribute 'MLPClassifier'"
     ]
    }
   ],
   "source": [
    "#net = neural_network.MLPClassifier(hidden_layer_size = (100,100), activation = 'logistic')\n"
   ]
  },
  {
   "cell_type": "code",
   "execution_count": 637,
   "metadata": {
    "collapsed": true
   },
   "outputs": [],
   "source": [
    "# ------------------------------------ Simple perceptron\n",
    "net = linear_model.Perceptron(alpha = 0.1, class_weight = 'balanced', fit_intercept = True)"
   ]
  },
  {
   "cell_type": "code",
   "execution_count": 642,
   "metadata": {
    "collapsed": false
   },
   "outputs": [
    {
     "name": "stdout",
     "output_type": "stream",
     "text": [
      "0.74297752809\n",
      "0.782122905028\n"
     ]
    }
   ],
   "source": [
    "net.fit(X_train, y_train)\n",
    "y_train_predict = net.predict(X_train)\n",
    "y_test_predict = net.predict(X_test)\n",
    "print metrics.accuracy_score(y_train_predict, y_train)\n",
    "print metrics.accuracy_score(y_test_predict, y_test)"
   ]
  },
  {
   "cell_type": "code",
   "execution_count": 644,
   "metadata": {
    "collapsed": false
   },
   "outputs": [],
   "source": [
    "from sklearn import neural_network"
   ]
  },
  {
   "cell_type": "code",
   "execution_count": 645,
   "metadata": {
    "collapsed": false
   },
   "outputs": [],
   "source": [
    "bern = neural_network.BernoulliRBM(n_components = 4)"
   ]
  },
  {
   "cell_type": "code",
   "execution_count": 646,
   "metadata": {
    "collapsed": false
   },
   "outputs": [
    {
     "ename": "AttributeError",
     "evalue": "'BernoulliRBM' object has no attribute 'predict'",
     "output_type": "error",
     "traceback": [
      "\u001b[0;31m---------------------------------------------------------------------------\u001b[0m",
      "\u001b[0;31mAttributeError\u001b[0m                            Traceback (most recent call last)",
      "\u001b[0;32m<ipython-input-646-3298f077e288>\u001b[0m in \u001b[0;36m<module>\u001b[0;34m()\u001b[0m\n\u001b[0;32m----> 1\u001b[0;31m \u001b[0my_train_predict\u001b[0m \u001b[0;34m=\u001b[0m \u001b[0mbern\u001b[0m\u001b[0;34m.\u001b[0m\u001b[0mpredict\u001b[0m\u001b[0;34m(\u001b[0m\u001b[0mX_train\u001b[0m\u001b[0;34m)\u001b[0m\u001b[0;34m\u001b[0m\u001b[0m\n\u001b[0m\u001b[1;32m      2\u001b[0m \u001b[0my_test_predict\u001b[0m \u001b[0;34m=\u001b[0m \u001b[0mbern\u001b[0m\u001b[0;34m.\u001b[0m\u001b[0mpredict\u001b[0m\u001b[0;34m(\u001b[0m\u001b[0mX_test\u001b[0m\u001b[0;34m)\u001b[0m\u001b[0;34m\u001b[0m\u001b[0m\n\u001b[1;32m      3\u001b[0m \u001b[0;32mprint\u001b[0m \u001b[0mmetrics\u001b[0m\u001b[0;34m.\u001b[0m\u001b[0maccuracy_score\u001b[0m\u001b[0;34m(\u001b[0m\u001b[0my_train_predict\u001b[0m\u001b[0;34m,\u001b[0m \u001b[0my_train\u001b[0m\u001b[0;34m)\u001b[0m\u001b[0;34m\u001b[0m\u001b[0m\n\u001b[1;32m      4\u001b[0m \u001b[0;32mprint\u001b[0m \u001b[0mmetrics\u001b[0m\u001b[0;34m.\u001b[0m\u001b[0maccuracy_score\u001b[0m\u001b[0;34m(\u001b[0m\u001b[0my_test_predict\u001b[0m\u001b[0;34m,\u001b[0m \u001b[0my_test\u001b[0m\u001b[0;34m)\u001b[0m\u001b[0;34m\u001b[0m\u001b[0m\n",
      "\u001b[0;31mAttributeError\u001b[0m: 'BernoulliRBM' object has no attribute 'predict'"
     ]
    }
   ],
   "source": [
    "y_train_predict = bern.predict(X_train)\n",
    "y_test_predict = bern.predict(X_test)\n",
    "print metrics.accuracy_score(y_train_predict, y_train)\n",
    "print metrics.accuracy_score(y_test_predict, y_test)"
   ]
  },
  {
   "cell_type": "markdown",
   "metadata": {},
   "source": [
    "# K-Nearest neighbors"
   ]
  },
  {
   "cell_type": "code",
   "execution_count": 669,
   "metadata": {
    "collapsed": true
   },
   "outputs": [],
   "source": [
    "from sklearn import neighbors"
   ]
  },
  {
   "cell_type": "code",
   "execution_count": 670,
   "metadata": {
    "collapsed": true
   },
   "outputs": [],
   "source": [
    "# KN doc\n",
    "# n_neighbors: Number of neighbors to use by default for k_neighbors queries.\n",
    "# algorithm : {‘auto’, ‘ball_tree’, ‘kd_tree’, ‘brute’}\n",
    "# metric: by default ‘minkowski’, can use “euclidean”, “seuclidean”, etc..."
   ]
  },
  {
   "cell_type": "code",
   "execution_count": 678,
   "metadata": {
    "collapsed": true
   },
   "outputs": [],
   "source": [
    "K_N = neighbors.KNeighborsClassifier(metric = 'euclidean')"
   ]
  },
  {
   "cell_type": "code",
   "execution_count": 680,
   "metadata": {
    "collapsed": false
   },
   "outputs": [
    {
     "name": "stdout",
     "output_type": "stream",
     "text": [
      "0.776685393258\n",
      "0.72625698324\n"
     ]
    },
    {
     "data": {
      "text/plain": [
       "{'n_neighbors': 6}"
      ]
     },
     "execution_count": 680,
     "metadata": {},
     "output_type": "execute_result"
    }
   ],
   "source": [
    "parameters = {'n_neighbors': [i for i in range(1,100)]}\n",
    "kn = grid_search.GridSearchCV(K_N, parameters, cv = 5)\n",
    "X_train, X_test, y_train, y_test = cross_validation.train_test_split(data_model, data_train['Survived'], test_size=0.2, random_state=0)\n",
    "kn.fit(X_train, y_train)\n",
    "y_train_predict = kn.predict(X_train)\n",
    "y_test_predict = kn.predict(X_test)\n",
    "print metrics.accuracy_score(y_train_predict, y_train)\n",
    "print metrics.accuracy_score(y_test_predict, y_test)\n",
    "kn.best_params_"
   ]
  },
  {
   "cell_type": "code",
   "execution_count": null,
   "metadata": {
    "collapsed": true
   },
   "outputs": [],
   "source": [
    "parameters = {'C': [i*0.1 for i in range(1,20)], 'kernel': ['linear', 'sigmoid']}\n",
    "# instantiate the grid search\n",
    "clf = grid_search.GridSearchCV(svc, parameters, cv = 3)\n",
    "clf.fit(X_train, y_train)"
   ]
  },
  {
   "cell_type": "markdown",
   "metadata": {},
   "source": [
    "# Seaborn"
   ]
  },
  {
   "cell_type": "code",
   "execution_count": 693,
   "metadata": {
    "collapsed": false
   },
   "outputs": [],
   "source": [
    "import seaborn as sns"
   ]
  },
  {
   "cell_type": "code",
   "execution_count": 695,
   "metadata": {
    "collapsed": true
   },
   "outputs": [],
   "source": [
    "# create dataframe from csv\n",
    "path = \"/Users/louis/Documents/DataScience/Titanic challenge/train.csv\"\n",
    "data = pd.read_csv(path)"
   ]
  },
  {
   "cell_type": "code",
   "execution_count": 710,
   "metadata": {
    "collapsed": false
   },
   "outputs": [
    {
     "data": {
      "text/plain": [
       "{'axes.grid': 'False', 'ytick.color': 'blue'}"
      ]
     },
     "execution_count": 710,
     "metadata": {},
     "output_type": "execute_result"
    },
    {
     "data": {
      "image/png": "[encoded data removed]",
      "text/plain": [
       "<matplotlib.figure.Figure at 0x12801c910>"
      ]
     },
     "metadata": {},
     "output_type": "display_data"
    }
   ],
   "source": [
    "# Nested boxplot to display the fare in function of the class\n",
    "sns.boxplot(x=\"Pclass\", y=\"Fare\", hue=\"Sex\", data=data)\n",
    "sns.set_style(\"whitegrid\")\n",
    "sns.despine(offset=10, trim=True)\n",
    "# change axes style\n",
    "sns.axes_style({'ytick.color' : 'blue', 'axes.grid' : 'False'})"
   ]
  },
  {
   "cell_type": "code",
   "execution_count": 786,
   "metadata": {
    "collapsed": false
   },
   "outputs": [
    {
     "data": {
      "text/plain": [
       "<matplotlib.text.Text at 0x1315cb550>"
      ]
     },
     "execution_count": 786,
     "metadata": {},
     "output_type": "execute_result"
    },
    {
     "data": {
      "image/png": "[encoded data removed]",
      "text/plain": [
       "<matplotlib.figure.Figure at 0x1314a2310>"
      ]
     },
     "metadata": {},
     "output_type": "display_data"
    }
   ],
   "source": [
    "# Distribution of passengers in function of Fare\n",
    "first_distr = sns.distplot(data['Fare'], kde = True, hist = False, kde_kws={\"color\":\"g\",\"lw\":4,\"label\":\"All passengers\",\"alpha\":0.5})\n",
    "second_distr = sns.distplot(data[data['Survived'] == 1]['Fare'], hist = False, kde_kws = {\"color\":\"b\",\"lw\":4,\"label\":\"Passengers that survived\",\"alpha\":0.5})\n",
    "\n",
    "\n",
    "sns.axes_style({'legend' : 'True', 'axes.grid' : 'False'})\n",
    "first_distr.set_xlabel(\"Fare\",size = 20,color=\"r\",alpha=0.5)\n",
    "first_distr.set_ylabel(\"Distribution\",size = 20,color=\"r\",alpha=0.5)\n",
    "first_distr.set_title('distribution of passengers (in function of fare)')"
   ]
  },
  {
   "cell_type": "code",
   "execution_count": 808,
   "metadata": {
    "collapsed": false
   },
   "outputs": [
    {
     "data": {
      "text/plain": [
       "(0.01, 0.059999999999999998)"
      ]
     },
     "execution_count": 808,
     "metadata": {},
     "output_type": "execute_result"
    },
    {
     "data": {
      "image/png": "[encoded data removed]",
      "text/plain": [
       "<matplotlib.figure.Figure at 0x131dcb5d0>"
      ]
     },
     "metadata": {},
     "output_type": "display_data"
    }
   ],
   "source": [
    "# Distribution of passengers in function of age\n",
    "first_distr = sns.distplot(data['Age'], kde = True, hist = False, kde_kws={\"color\":\"g\",\"lw\":4,\"label\":\"All passengers\",\"alpha\":0.5})\n",
    "second_distr = sns.distplot(data[data['Survived'] == 1]['Age'], hist = False, kde_kws = {\"color\":\"b\",\"lw\":4,\"label\":\"Passengers that survived\",\"alpha\":0.5})\n",
    "first_distr.set_title('Distribution of Ages (all and survived only)')\n",
    "first_distr.set_ylim(0.01,)"
   ]
  },
  {
   "cell_type": "code",
   "execution_count": 792,
   "metadata": {
    "collapsed": false
   },
   "outputs": [
    {
     "data": {
      "image/png": "[encoded data removed]",
      "text/plain": [
       "<matplotlib.figure.Figure at 0x12d0cafd0>"
      ]
     },
     "metadata": {},
     "output_type": "display_data"
    }
   ],
   "source": [
    "# Bar chart of survivors vs class\n",
    "g = sns.barplot(y ='Survived', x = 'Pclass', hue = 'Sex', data = data, color = 'salmon')"
   ]
  },
  {
   "cell_type": "code",
   "execution_count": 811,
   "metadata": {
    "collapsed": false
   },
   "outputs": [
    {
     "data": {
      "text/plain": [
       "{'axes.grid': True}"
      ]
     },
     "execution_count": 811,
     "metadata": {},
     "output_type": "execute_result"
    },
    {
     "data": {
      "image/png": "[encoded data removed]",
      "text/plain": [
       "<matplotlib.figure.Figure at 0x1325cf9d0>"
      ]
     },
     "metadata": {},
     "output_type": "display_data"
    }
   ],
   "source": [
    "# Scatter plot age vs fare\n",
    "g = sns.jointplot(x=\"Age\", y=\"Fare\", data=data)\n",
    "sns.axes_style({'axes.grid': True})"
   ]
  },
  {
   "cell_type": "code",
   "execution_count": 818,
   "metadata": {
    "collapsed": false
   },
   "outputs": [
    {
     "data": {
      "text/plain": [
       "{'axes.grid': 'False', 'ytick.color': 'blue'}"
      ]
     },
     "execution_count": 818,
     "metadata": {},
     "output_type": "execute_result"
    },
    {
     "data": {
      "image/png": "[encoded data removed]",
      "text/plain": [
       "<matplotlib.figure.Figure at 0x134249810>"
      ]
     },
     "metadata": {},
     "output_type": "display_data"
    }
   ],
   "source": [
    "g = sns.lmplot('Age', 'Fare', data=data, fit_reg=True)\n",
    "sns.axes_style({'ytick.color' : 'blue', 'axes.grid' : 'False'})"
   ]
  },
  {
   "cell_type": "code",
   "execution_count": 819,
   "metadata": {
    "collapsed": false
   },
   "outputs": [
    {
     "data": {
      "text/html": [
       "<div>\n",
       "<table border=\"1\" class=\"dataframe\">\n",
       "  <thead>\n",
       "    <tr style=\"text-align: right;\">\n",
       "      <th></th>\n",
       "      <th>PassengerId</th>\n",
       "      <th>Survived</th>\n",
       "      <th>Pclass</th>\n",
       "      <th>Name</th>\n",
       "      <th>Sex</th>\n",
       "      <th>Age</th>\n",
       "      <th>SibSp</th>\n",
       "      <th>Parch</th>\n",
       "      <th>Ticket</th>\n",
       "      <th>Fare</th>\n",
       "      <th>Cabin</th>\n",
       "      <th>Embarked</th>\n",
       "    </tr>\n",
       "  </thead>\n",
       "  <tbody>\n",
       "    <tr>\n",
       "      <th>0</th>\n",
       "      <td>1</td>\n",
       "      <td>0</td>\n",
       "      <td>3</td>\n",
       "      <td>Braund, Mr. Owen Harris</td>\n",
       "      <td>male</td>\n",
       "      <td>22.0</td>\n",
       "      <td>1</td>\n",
       "      <td>0</td>\n",
       "      <td>A/5 21171</td>\n",
       "      <td>7.2500</td>\n",
       "      <td>NaN</td>\n",
       "      <td>S</td>\n",
       "    </tr>\n",
       "    <tr>\n",
       "      <th>1</th>\n",
       "      <td>2</td>\n",
       "      <td>1</td>\n",
       "      <td>1</td>\n",
       "      <td>Cumings, Mrs. John Bradley (Florence Briggs Th...</td>\n",
       "      <td>female</td>\n",
       "      <td>38.0</td>\n",
       "      <td>1</td>\n",
       "      <td>0</td>\n",
       "      <td>PC 17599</td>\n",
       "      <td>71.2833</td>\n",
       "      <td>C85</td>\n",
       "      <td>C</td>\n",
       "    </tr>\n",
       "    <tr>\n",
       "      <th>2</th>\n",
       "      <td>3</td>\n",
       "      <td>1</td>\n",
       "      <td>3</td>\n",
       "      <td>Heikkinen, Miss. Laina</td>\n",
       "      <td>female</td>\n",
       "      <td>26.0</td>\n",
       "      <td>0</td>\n",
       "      <td>0</td>\n",
       "      <td>STON/O2. 3101282</td>\n",
       "      <td>7.9250</td>\n",
       "      <td>NaN</td>\n",
       "      <td>S</td>\n",
       "    </tr>\n",
       "    <tr>\n",
       "      <th>3</th>\n",
       "      <td>4</td>\n",
       "      <td>1</td>\n",
       "      <td>1</td>\n",
       "      <td>Futrelle, Mrs. Jacques Heath (Lily May Peel)</td>\n",
       "      <td>female</td>\n",
       "      <td>35.0</td>\n",
       "      <td>1</td>\n",
       "      <td>0</td>\n",
       "      <td>113803</td>\n",
       "      <td>53.1000</td>\n",
       "      <td>C123</td>\n",
       "      <td>S</td>\n",
       "    </tr>\n",
       "    <tr>\n",
       "      <th>4</th>\n",
       "      <td>5</td>\n",
       "      <td>0</td>\n",
       "      <td>3</td>\n",
       "      <td>Allen, Mr. William Henry</td>\n",
       "      <td>male</td>\n",
       "      <td>35.0</td>\n",
       "      <td>0</td>\n",
       "      <td>0</td>\n",
       "      <td>373450</td>\n",
       "      <td>8.0500</td>\n",
       "      <td>NaN</td>\n",
       "      <td>S</td>\n",
       "    </tr>\n",
       "  </tbody>\n",
       "</table>\n",
       "</div>"
      ],
      "text/plain": [
       "   PassengerId  Survived  Pclass  \\\n",
       "0            1         0       3   \n",
       "1            2         1       1   \n",
       "2            3         1       3   \n",
       "3            4         1       1   \n",
       "4            5         0       3   \n",
       "\n",
       "                                                Name     Sex   Age  SibSp  \\\n",
       "0                            Braund, Mr. Owen Harris    male  22.0      1   \n",
       "1  Cumings, Mrs. John Bradley (Florence Briggs Th...  female  38.0      1   \n",
       "2                             Heikkinen, Miss. Laina  female  26.0      0   \n",
       "3       Futrelle, Mrs. Jacques Heath (Lily May Peel)  female  35.0      1   \n",
       "4                           Allen, Mr. William Henry    male  35.0      0   \n",
       "\n",
       "   Parch            Ticket     Fare Cabin Embarked  \n",
       "0      0         A/5 21171   7.2500   NaN        S  \n",
       "1      0          PC 17599  71.2833   C85        C  \n",
       "2      0  STON/O2. 3101282   7.9250   NaN        S  \n",
       "3      0            113803  53.1000  C123        S  \n",
       "4      0            373450   8.0500   NaN        S  "
      ]
     },
     "execution_count": 819,
     "metadata": {},
     "output_type": "execute_result"
    }
   ],
   "source": [
    "data.head()"
   ]
  },
  {
   "cell_type": "code",
   "execution_count": 823,
   "metadata": {
    "collapsed": false
   },
   "outputs": [
    {
     "data": {
      "text/plain": [
       "<matplotlib.axes._subplots.AxesSubplot at 0x1321a7090>"
      ]
     },
     "execution_count": 823,
     "metadata": {},
     "output_type": "execute_result"
    },
    {
     "data": {
      "image/png": "[encoded data removed]",
      "text/plain": [
       "<matplotlib.figure.Figure at 0x132351710>"
      ]
     },
     "metadata": {},
     "output_type": "display_data"
    }
   ],
   "source": [
    "# Create a correlation matrix\n",
    "data_corr = data[['Pclass', 'Age', 'Fare', \"Survived\"]]\n",
    "corr = data_corr.corr()\n",
    "\n",
    "# Generate a custom diverging colormap\n",
    "cmap = sns.diverging_palette(220, 10, as_cmap=True)\n",
    "\n",
    "# Generate a mask for the upper triangle\n",
    "mask = np.zeros_like(corr, dtype=np.bool)\n",
    "mask[np.triu_indices_from(mask)] = True\n",
    "\n",
    "# Set up the matplotlib figure\n",
    "f, ax = plt.subplots(figsize=(11, 9))\n",
    "\n",
    "# Draw the heatmap with the mask and correct aspect ratio\n",
    "sns.heatmap(corr, mask=mask, cmap=cmap, vmax=.3,\n",
    "            square=True, xticklabels=5, yticklabels=5,\n",
    "            linewidths=.5, cbar_kws={\"shrink\": .5})\n"
   ]
  },
  {
   "cell_type": "code",
   "execution_count": 824,
   "metadata": {
    "collapsed": false
   },
   "outputs": [
    {
     "name": "stdout",
     "output_type": "stream",
     "text": [
      "Axes(0.125,0.133611;0.62x0.757778)\n"
     ]
    }
   ],
   "source": [
    "print ax"
   ]
  },
  {
   "cell_type": "code",
   "execution_count": 825,
   "metadata": {
    "collapsed": false
   },
   "outputs": [
    {
     "name": "stdout",
     "output_type": "stream",
     "text": [
      "Figure(880x720)\n"
     ]
    }
   ],
   "source": [
    "print f"
   ]
  },
  {
   "cell_type": "code",
   "execution_count": 826,
   "metadata": {
    "collapsed": false
   },
   "outputs": [
    {
     "data": {
      "text/plain": [
       "array(['Pclass', 'Age', 'Fare', 'Survived'], dtype=object)"
      ]
     },
     "execution_count": 826,
     "metadata": {},
     "output_type": "execute_result"
    }
   ],
   "source": [
    "data_corr.columns.values"
   ]
  },
  {
   "cell_type": "code",
   "execution_count": null,
   "metadata": {
    "collapsed": true
   },
   "outputs": [],
   "source": []
  }
 ],
 "metadata": {
  "kernelspec": {
   "display_name": "Python 2",
   "language": "python",
   "name": "python2"
  },
  "language_info": {
   "codemirror_mode": {
    "name": "ipython",
    "version": 2
   },
   "file_extension": ".py",
   "mimetype": "text/x-python",
   "name": "python",
   "nbconvert_exporter": "python",
   "pygments_lexer": "ipython2",
   "version": "2.7.11"
  }
 },
 "nbformat": 4,
 "nbformat_minor": 0
}
