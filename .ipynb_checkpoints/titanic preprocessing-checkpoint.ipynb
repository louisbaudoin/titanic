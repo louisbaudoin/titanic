{
 "cells": [
  {
   "cell_type": "code",
   "execution_count": 66,
   "metadata": {
    "collapsed": false
   },
   "outputs": [],
   "source": [
    "import numpy as np\n",
    "import pandas as pd\n",
    "import datetime\n",
    "from datetime import datetime\n",
    "import time\n",
    "from datetime import datetime\n",
    "import csv\n",
    "%matplotlib inline\n",
    "import matplotlib.pyplot as plt\n"
   ]
  },
  {
   "cell_type": "code",
   "execution_count": 136,
   "metadata": {
    "collapsed": false
   },
   "outputs": [
    {
     "data": {
      "text/html": [
       "<div>\n",
       "<table border=\"1\" class=\"dataframe\">\n",
       "  <thead>\n",
       "    <tr style=\"text-align: right;\">\n",
       "      <th></th>\n",
       "      <th>PassengerId</th>\n",
       "      <th>Survived</th>\n",
       "      <th>Pclass</th>\n",
       "      <th>Name</th>\n",
       "      <th>Sex</th>\n",
       "      <th>Age</th>\n",
       "      <th>SibSp</th>\n",
       "      <th>Parch</th>\n",
       "      <th>Ticket</th>\n",
       "      <th>Fare</th>\n",
       "      <th>Cabin</th>\n",
       "      <th>Embarked</th>\n",
       "    </tr>\n",
       "  </thead>\n",
       "  <tbody>\n",
       "    <tr>\n",
       "      <th>0</th>\n",
       "      <td>1</td>\n",
       "      <td>0</td>\n",
       "      <td>3</td>\n",
       "      <td>Braund, Mr. Owen Harris</td>\n",
       "      <td>male</td>\n",
       "      <td>22.0</td>\n",
       "      <td>1</td>\n",
       "      <td>0</td>\n",
       "      <td>A/5 21171</td>\n",
       "      <td>7.2500</td>\n",
       "      <td>NaN</td>\n",
       "      <td>S</td>\n",
       "    </tr>\n",
       "    <tr>\n",
       "      <th>1</th>\n",
       "      <td>2</td>\n",
       "      <td>1</td>\n",
       "      <td>1</td>\n",
       "      <td>Cumings, Mrs. John Bradley (Florence Briggs Th...</td>\n",
       "      <td>female</td>\n",
       "      <td>38.0</td>\n",
       "      <td>1</td>\n",
       "      <td>0</td>\n",
       "      <td>PC 17599</td>\n",
       "      <td>71.2833</td>\n",
       "      <td>C85</td>\n",
       "      <td>C</td>\n",
       "    </tr>\n",
       "    <tr>\n",
       "      <th>2</th>\n",
       "      <td>3</td>\n",
       "      <td>1</td>\n",
       "      <td>3</td>\n",
       "      <td>Heikkinen, Miss. Laina</td>\n",
       "      <td>female</td>\n",
       "      <td>26.0</td>\n",
       "      <td>0</td>\n",
       "      <td>0</td>\n",
       "      <td>STON/O2. 3101282</td>\n",
       "      <td>7.9250</td>\n",
       "      <td>NaN</td>\n",
       "      <td>S</td>\n",
       "    </tr>\n",
       "    <tr>\n",
       "      <th>3</th>\n",
       "      <td>4</td>\n",
       "      <td>1</td>\n",
       "      <td>1</td>\n",
       "      <td>Futrelle, Mrs. Jacques Heath (Lily May Peel)</td>\n",
       "      <td>female</td>\n",
       "      <td>35.0</td>\n",
       "      <td>1</td>\n",
       "      <td>0</td>\n",
       "      <td>113803</td>\n",
       "      <td>53.1000</td>\n",
       "      <td>C123</td>\n",
       "      <td>S</td>\n",
       "    </tr>\n",
       "    <tr>\n",
       "      <th>4</th>\n",
       "      <td>5</td>\n",
       "      <td>0</td>\n",
       "      <td>3</td>\n",
       "      <td>Allen, Mr. William Henry</td>\n",
       "      <td>male</td>\n",
       "      <td>35.0</td>\n",
       "      <td>0</td>\n",
       "      <td>0</td>\n",
       "      <td>373450</td>\n",
       "      <td>8.0500</td>\n",
       "      <td>NaN</td>\n",
       "      <td>S</td>\n",
       "    </tr>\n",
       "  </tbody>\n",
       "</table>\n",
       "</div>"
      ],
      "text/plain": [
       "   PassengerId  Survived  Pclass  \\\n",
       "0            1         0       3   \n",
       "1            2         1       1   \n",
       "2            3         1       3   \n",
       "3            4         1       1   \n",
       "4            5         0       3   \n",
       "\n",
       "                                                Name     Sex   Age  SibSp  \\\n",
       "0                            Braund, Mr. Owen Harris    male  22.0      1   \n",
       "1  Cumings, Mrs. John Bradley (Florence Briggs Th...  female  38.0      1   \n",
       "2                             Heikkinen, Miss. Laina  female  26.0      0   \n",
       "3       Futrelle, Mrs. Jacques Heath (Lily May Peel)  female  35.0      1   \n",
       "4                           Allen, Mr. William Henry    male  35.0      0   \n",
       "\n",
       "   Parch            Ticket     Fare Cabin Embarked  \n",
       "0      0         A/5 21171   7.2500   NaN        S  \n",
       "1      0          PC 17599  71.2833   C85        C  \n",
       "2      0  STON/O2. 3101282   7.9250   NaN        S  \n",
       "3      0            113803  53.1000  C123        S  \n",
       "4      0            373450   8.0500   NaN        S  "
      ]
     },
     "execution_count": 136,
     "metadata": {},
     "output_type": "execute_result"
    }
   ],
   "source": [
    "# create dataframe from csv\n",
    "path = \"/Users/louis/Documents/DataScience/Titanic challenge/train.csv\"\n",
    "data = pd.read_csv(path)\n",
    "data.head()"
   ]
  },
  {
   "cell_type": "code",
   "execution_count": 18,
   "metadata": {
    "collapsed": false
   },
   "outputs": [
    {
     "name": "stdout",
     "output_type": "stream",
     "text": [
      "<class 'pandas.core.frame.DataFrame'>\n",
      "RangeIndex: 891 entries, 0 to 890\n",
      "Data columns (total 12 columns):\n",
      "PassengerId    891 non-null int64\n",
      "Survived       891 non-null int64\n",
      "Pclass         891 non-null int64\n",
      "Name           891 non-null object\n",
      "Sex            891 non-null object\n",
      "Age            714 non-null float64\n",
      "SibSp          891 non-null int64\n",
      "Parch          891 non-null int64\n",
      "Ticket         891 non-null object\n",
      "Fare           891 non-null float64\n",
      "Cabin          204 non-null object\n",
      "Embarked       889 non-null object\n",
      "dtypes: float64(2), int64(5), object(5)\n",
      "memory usage: 83.6+ KB\n"
     ]
    }
   ],
   "source": [
    "data.info()"
   ]
  },
  {
   "cell_type": "markdown",
   "metadata": {},
   "source": [
    "# Descriptive analysis"
   ]
  },
  {
   "cell_type": "code",
   "execution_count": 17,
   "metadata": {
    "collapsed": true
   },
   "outputs": [
    {
     "name": "stdout",
     "output_type": "stream",
     "text": [
      "512.3292\n",
      "0.0\n"
     ]
    },
    {
     "data": {
      "text/plain": [
       "S    644\n",
       "C    168\n",
       "Q     77\n",
       "Name: Embarked, dtype: int64"
      ]
     },
     "execution_count": 17,
     "metadata": {},
     "output_type": "execute_result"
    }
   ],
   "source": [
    "# nombre de passagers (training data)\n",
    "data['PassengerId'].max()\n",
    "# nombre de classes\n",
    "data['Pclass'].max()\n",
    "# GENDER\n",
    "data['Sex'].value_counts(dropna = False)\n",
    "# age\n",
    "data['Age'].max()\n",
    "# fare\n",
    "print data['Fare'].max()\n",
    "print data['Fare'].min()\n",
    "# embarked\n",
    "data['Embarked'].value_counts()"
   ]
  },
  {
   "cell_type": "code",
   "execution_count": 47,
   "metadata": {
    "collapsed": false
   },
   "outputs": [
    {
     "data": {
      "text/plain": [
       "<matplotlib.axes._subplots.AxesSubplot at 0x11d842650>"
      ]
     },
     "execution_count": 47,
     "metadata": {},
     "output_type": "execute_result"
    },
    {
     "data": {
      "image/png": "[encoded data removed]",
      "text/plain": [
       "<matplotlib.figure.Figure at 0x11d9c6890>"
      ]
     },
     "metadata": {},
     "output_type": "display_data"
    }
   ],
   "source": [
    "# fare paid by subcategory\n",
    "pivot_fare = pd.pivot_table(data, index = ['Pclass'], values = ['Fare'], columns = ['Sex'], aggfunc = np.mean)\n",
    "#pivot_fare.reset_index(level = [1], drop = False, inplace = True)\n",
    "pivot_fare.plot.bar()"
   ]
  },
  {
   "cell_type": "code",
   "execution_count": 63,
   "metadata": {
    "collapsed": false
   },
   "outputs": [
    {
     "data": {
      "text/plain": [
       "<matplotlib.axes._subplots.AxesSubplot at 0x11dd03c90>"
      ]
     },
     "execution_count": 63,
     "metadata": {},
     "output_type": "execute_result"
    },
    {
     "data": {
      "image/png": "[encoded data removed]",
      "text/plain": [
       "<matplotlib.figure.Figure at 0x11db39490>"
      ]
     },
     "metadata": {},
     "output_type": "display_data"
    }
   ],
   "source": [
    "# % of survivors by subcategories\n",
    "# number of persons by subcategory\n",
    "pivot_all = pd.pivot_table(data, index = ['Pclass'], values = ['Survived'], columns = ['Sex'], aggfunc = 'count')\n",
    "#number of survivors per category\n",
    "pivot_survivors = pd.pivot_table(data, index = ['Pclass'], values = ['Survived'], columns = ['Sex'], aggfunc = 'sum')\n",
    "\n",
    "# div\n",
    "table = pivot_survivors.div(pivot_all)*100\n",
    "# plot \n",
    "table.plot(kind ='bar')\n",
    "\n",
    "# reset indexes\n",
    "#pivot_survivors.reset_index(level = [0,1], drop = False, inplace = True)\n",
    "#pivot_all.reset_index(level = [0,1], drop = False, inplace = True)"
   ]
  },
  {
   "cell_type": "code",
   "execution_count": 64,
   "metadata": {
    "collapsed": false
   },
   "outputs": [
    {
     "data": {
      "text/plain": [
       "<matplotlib.axes._subplots.AxesSubplot at 0x11dc9fb90>"
      ]
     },
     "execution_count": 64,
     "metadata": {},
     "output_type": "execute_result"
    },
    {
     "data": {
      "image/png": "[encoded data removed]",
      "text/plain": [
       "<matplotlib.figure.Figure at 0x11dafb150>"
      ]
     },
     "metadata": {},
     "output_type": "display_data"
    }
   ],
   "source": [
    "# distribution des gens selon les classes et le genre\n",
    "pivot_all = pd.pivot_table(data, index = ['Pclass'], values = ['Survived'], columns = ['Sex'], aggfunc = 'count')\n",
    "pivot_all.plot(kind = 'bar')"
   ]
  },
  {
   "cell_type": "markdown",
   "metadata": {},
   "source": [
    "# Pre-processing "
   ]
  },
  {
   "cell_type": "code",
   "execution_count": 280,
   "metadata": {
    "collapsed": false
   },
   "outputs": [],
   "source": [
    "# create train dataframe\n",
    "path_train = \"/Users/louis/Documents/DataScience/Titanic challenge/train.csv\"\n",
    "data_train = pd.read_csv(path_train)\n",
    "# create test dataframe\n",
    "path_test = \"/Users/louis/Documents/DataScience/Titanic challenge/test.csv\"\n",
    "data_test = pd.read_csv(path_test)"
   ]
  },
  {
   "cell_type": "code",
   "execution_count": 286,
   "metadata": {
    "collapsed": false
   },
   "outputs": [],
   "source": [
    "def preprocessing_model(data, features):\n",
    "    # dummify embarked\n",
    "    data = dummify(data, 'Embarked')\n",
    "    \n",
    "    ## Replace NAs in Age and Fare\n",
    "    avg_age = data['Age'].mean()\n",
    "    data['Age'] = data['Age'].fillna(avg_age)\n",
    "    avg_fare = data['Fare'].mean()\n",
    "    data['Fare'] = data['Fare'].fillna(avg_age)\n",
    "    \n",
    "    # 1 for women, 0 for men\n",
    "    sex = {'male': 0, 'female':1}\n",
    "    data['Sex'] = data['Sex'].map(sex)\n",
    "    \n",
    "    # keep only relevant features\n",
    "    data = data[features]\n",
    "    return data\n",
    "\n",
    "\n",
    "# dummify Pclass and Embark\n",
    "def dummify(data, column):\n",
    "    data_column = data[column]\n",
    "    dumm = pd.get_dummies(data_column, prefix = column, prefix_sep = '_')\n",
    "    data = data.merge(dumm, left_index = True, right_index = True, how ='left')\n",
    "    del data[column]\n",
    "    return data\n"
   ]
  },
  {
   "cell_type": "markdown",
   "metadata": {},
   "source": [
    "# K-Means"
   ]
  },
  {
   "cell_type": "code",
   "execution_count": 109,
   "metadata": {
    "collapsed": true
   },
   "outputs": [],
   "source": [
    "# Note: KMeans can fall in local minima, hence should be run several times manually (not a parameter in sklearn)\n",
    "from sklearn.cluster import KMeans\n",
    "from sklearn.preprocessing import scale\n",
    "from matplotlib import pyplot as plt "
   ]
  },
  {
   "cell_type": "code",
   "execution_count": 110,
   "metadata": {
    "collapsed": false
   },
   "outputs": [
    {
     "name": "stdout",
     "output_type": "stream",
     "text": [
      "0\n"
     ]
    }
   ],
   "source": [
    "# replace null ages by the average of ages\n",
    "av_ages = data['Age'].mean()\n",
    "data['Age'] = data['Age'].fillna(av_ages)\n",
    "print data['Age'].isnull().sum()"
   ]
  },
  {
   "cell_type": "code",
   "execution_count": 112,
   "metadata": {
    "collapsed": false
   },
   "outputs": [],
   "source": [
    "# select relevant features for KMeans\n",
    "features_K = ['Age', 'Fare', 'Survived', 'SibSp', 'Parch']\n",
    "data_K = data[features_K]\n",
    "# Instantiate the model\n",
    "model = KMeans(n_clusters = 3)"
   ]
  },
  {
   "cell_type": "code",
   "execution_count": 113,
   "metadata": {
    "collapsed": false
   },
   "outputs": [],
   "source": [
    "# center and normalize\n",
    "data_norm = scale(data_K)\n",
    "model = model.fit(data_norm)"
   ]
  },
  {
   "cell_type": "code",
   "execution_count": 114,
   "metadata": {
    "collapsed": false
   },
   "outputs": [
    {
     "data": {
      "image/png": "[encoded data removed]",
      "text/plain": [
       "<matplotlib.figure.Figure at 0x122239950>"
      ]
     },
     "metadata": {},
     "output_type": "display_data"
    }
   ],
   "source": [
    "# And we'll visualize it:\n",
    "plt.figure(figsize=(8, 6))\n",
    "plt.scatter(data_K.iloc[:,0], data_K.iloc[:,1], c=model.labels_.astype(float))\n",
    "plt.xlabel('Age', fontsize=18)\n",
    "plt.ylabel('Fare', fontsize = 18)\n",
    "plt.ylim((0,600))\n",
    "plt.xlim((0,85))\n",
    "plt.grid(True)\n",
    "plt.show()"
   ]
  },
  {
   "cell_type": "code",
   "execution_count": 448,
   "metadata": {
    "collapsed": false
   },
   "outputs": [
    {
     "data": {
      "text/plain": [
       "GridSearchCV(cv=3, error_score='raise',\n",
       "       estimator=KMeans(copy_x=True, init='k-means++', max_iter=300, n_clusters=8, n_init=10,\n",
       "    n_jobs=1, precompute_distances='auto', random_state=None, tol=0.0001,\n",
       "    verbose=0),\n",
       "       fit_params={}, iid=True, n_jobs=1,\n",
       "       param_grid={'n_clusters': [1, 2, 3, 4, 5, 6, 7, 8, 9, 10, 11, 12, 13, 14, 15, 16, 17, 18, 19]},\n",
       "       pre_dispatch='2*n_jobs', refit=True, scoring=None, verbose=0)"
      ]
     },
     "execution_count": 448,
     "metadata": {},
     "output_type": "execute_result"
    }
   ],
   "source": [
    "# Try out different values of clusters and choose based on the sum of distances to the centroids\n",
    "from sklearn import grid_search\n",
    "\n",
    "# Instantiate the model\n",
    "model_KM = KMeans()\n",
    "# define parameters\n",
    "parameters = {'n_clusters': [i for i in range(1,20)]}\n",
    "clf = grid_search.GridSearchCV(model_KM, parameters, cv = 3)\n",
    "clf.fit(data_norm)"
   ]
  },
  {
   "cell_type": "code",
   "execution_count": 449,
   "metadata": {
    "collapsed": false
   },
   "outputs": [
    {
     "data": {
      "text/plain": [
       "{'n_clusters': 19}"
      ]
     },
     "execution_count": 449,
     "metadata": {},
     "output_type": "execute_result"
    }
   ],
   "source": [
    "clf.best_params_"
   ]
  },
  {
   "cell_type": "code",
   "execution_count": 457,
   "metadata": {
    "collapsed": false
   },
   "outputs": [
    {
     "data": {
      "text/plain": [
       "KMeans(copy_x=True, init='k-means++', max_iter=300, n_clusters=3, n_init=10,\n",
       "    n_jobs=1, precompute_distances='auto', random_state=None, tol=0.0001,\n",
       "    verbose=0)"
      ]
     },
     "execution_count": 457,
     "metadata": {},
     "output_type": "execute_result"
    }
   ],
   "source": [
    "# Instantiate model with 3 clusters and train\n",
    "model_KM_b = KMeans(n_clusters = 3)\n",
    "model_KM_b.fit(data_norm)"
   ]
  },
  {
   "cell_type": "code",
   "execution_count": 495,
   "metadata": {
    "collapsed": false
   },
   "outputs": [],
   "source": [
    "# get np.array with cluster labels\n",
    "labels = model_KM_b.labels_\n",
    "# get np.array with distances to centroids\n",
    "distances = model_KM_b.inertia_"
   ]
  },
  {
   "cell_type": "code",
   "execution_count": 494,
   "metadata": {
    "collapsed": false
   },
   "outputs": [
    {
     "ename": "ValueError",
     "evalue": "all the input array dimensions except for the concatenation axis must match exactly",
     "output_type": "error",
     "traceback": [
      "\u001b[0;31m---------------------------------------------------------------------------\u001b[0m",
      "\u001b[0;31mValueError\u001b[0m                                Traceback (most recent call last)",
      "\u001b[0;32m<ipython-input-494-afa0ecbbcee1>\u001b[0m in \u001b[0;36m<module>\u001b[0;34m()\u001b[0m\n\u001b[0;32m----> 1\u001b[0;31m \u001b[0mnp\u001b[0m\u001b[0;34m.\u001b[0m\u001b[0mvstack\u001b[0m\u001b[0;34m(\u001b[0m\u001b[0;34m(\u001b[0m\u001b[0mlabels\u001b[0m\u001b[0;34m,\u001b[0m\u001b[0mdistances\u001b[0m\u001b[0;34m)\u001b[0m\u001b[0;34m)\u001b[0m\u001b[0;34m\u001b[0m\u001b[0m\n\u001b[0m",
      "\u001b[0;32m/Users/louis/Library/Enthought/Canopy_64bit/User/lib/python2.7/site-packages/numpy/core/shape_base.pyc\u001b[0m in \u001b[0;36mvstack\u001b[0;34m(tup)\u001b[0m\n\u001b[1;32m    228\u001b[0m \u001b[0;34m\u001b[0m\u001b[0m\n\u001b[1;32m    229\u001b[0m     \"\"\"\n\u001b[0;32m--> 230\u001b[0;31m     \u001b[0;32mreturn\u001b[0m \u001b[0m_nx\u001b[0m\u001b[0;34m.\u001b[0m\u001b[0mconcatenate\u001b[0m\u001b[0;34m(\u001b[0m\u001b[0;34m[\u001b[0m\u001b[0matleast_2d\u001b[0m\u001b[0;34m(\u001b[0m\u001b[0m_m\u001b[0m\u001b[0;34m)\u001b[0m \u001b[0;32mfor\u001b[0m \u001b[0m_m\u001b[0m \u001b[0;32min\u001b[0m \u001b[0mtup\u001b[0m\u001b[0;34m]\u001b[0m\u001b[0;34m,\u001b[0m \u001b[0;36m0\u001b[0m\u001b[0;34m)\u001b[0m\u001b[0;34m\u001b[0m\u001b[0m\n\u001b[0m\u001b[1;32m    231\u001b[0m \u001b[0;34m\u001b[0m\u001b[0m\n\u001b[1;32m    232\u001b[0m \u001b[0;32mdef\u001b[0m \u001b[0mhstack\u001b[0m\u001b[0;34m(\u001b[0m\u001b[0mtup\u001b[0m\u001b[0;34m)\u001b[0m\u001b[0;34m:\u001b[0m\u001b[0;34m\u001b[0m\u001b[0m\n",
      "\u001b[0;31mValueError\u001b[0m: all the input array dimensions except for the concatenation axis must match exactly"
     ]
    }
   ],
   "source": [
    "np.vstack((labels,distances))"
   ]
  },
  {
   "cell_type": "code",
   "execution_count": 450,
   "metadata": {
    "collapsed": false
   },
   "outputs": [],
   "source": [
    "# KMeans\n",
    "# ---> PARAMETERS\n",
    "# n_clusters: number of clusters to form\n",
    "# max_iter: Maximum number of iterations of the k-means algorithm for a single run.\n",
    "# n_init: Number of time the k-means algorithm will be run with different centroid seeds. The final results will be the best output of n_init consecutive runs in terms of inertia.\n",
    "# init : {‘k-means++’, ‘random’ or an ndarray} - ‘k-means++’ : selects initial cluster centers for k-mean clustering in a smart way to speed up convergence. See section Notes in k_init for more details.\n",
    "#-random’: choose k observations (rows) at random from data for the initial centroids.\n",
    "# random_state : seed of the random generator used to initizalize the centroids\n",
    "# ---> ATTRIBUTES\n",
    "#model.cluster_centers_\n",
    "#model.labels_ : returns the label of each point\n",
    "#model.inertia_ :Sum of distances of samples to their closest cluster center.\n",
    "#model.transform(X,y): returns the distance to centroids of each points - hence allows to calculate the average distance to the centroids for each cluster\n",
    "# (and compare which cluster has the highest sum of distances)"
   ]
  },
  {
   "cell_type": "markdown",
   "metadata": {},
   "source": [
    "# PCA"
   ]
  },
  {
   "cell_type": "code",
   "execution_count": 290,
   "metadata": {
    "collapsed": false
   },
   "outputs": [],
   "source": [
    "from sklearn.decomposition import PCA\n",
    "from sklearn.decomposition import RandomizedPCA"
   ]
  },
  {
   "cell_type": "code",
   "execution_count": 253,
   "metadata": {
    "collapsed": true
   },
   "outputs": [
    {
     "name": "stdout",
     "output_type": "stream",
     "text": [
      "     Survived  Pclass  Sex        Age  SibSp  Parch      Fare  Embarked_C  \\\n",
      "0           0       3    0  22.000000      1      0    7.2500         0.0   \n",
      "1           1       1    1  38.000000      1      0   71.2833         1.0   \n",
      "2           1       3    1  26.000000      0      0    7.9250         0.0   \n",
      "3           1       1    1  35.000000      1      0   53.1000         0.0   \n",
      "4           0       3    0  35.000000      0      0    8.0500         0.0   \n",
      "5           0       3    0  29.699118      0      0    8.4583         0.0   \n",
      "6           0       1    0  54.000000      0      0   51.8625         0.0   \n",
      "7           0       3    0   2.000000      3      1   21.0750         0.0   \n",
      "8           1       3    1  27.000000      0      2   11.1333         0.0   \n",
      "9           1       2    1  14.000000      1      0   30.0708         1.0   \n",
      "10          1       3    1   4.000000      1      1   16.7000         0.0   \n",
      "11          1       1    1  58.000000      0      0   26.5500         0.0   \n",
      "12          0       3    0  20.000000      0      0    8.0500         0.0   \n",
      "13          0       3    0  39.000000      1      5   31.2750         0.0   \n",
      "14          0       3    1  14.000000      0      0    7.8542         0.0   \n",
      "15          1       2    1  55.000000      0      0   16.0000         0.0   \n",
      "16          0       3    0   2.000000      4      1   29.1250         0.0   \n",
      "17          1       2    0  29.699118      0      0   13.0000         0.0   \n",
      "18          0       3    1  31.000000      1      0   18.0000         0.0   \n",
      "19          1       3    1  29.699118      0      0    7.2250         1.0   \n",
      "20          0       2    0  35.000000      0      0   26.0000         0.0   \n",
      "21          1       2    0  34.000000      0      0   13.0000         0.0   \n",
      "22          1       3    1  15.000000      0      0    8.0292         0.0   \n",
      "23          1       1    0  28.000000      0      0   35.5000         0.0   \n",
      "24          0       3    1   8.000000      3      1   21.0750         0.0   \n",
      "25          1       3    1  38.000000      1      5   31.3875         0.0   \n",
      "26          0       3    0  29.699118      0      0    7.2250         1.0   \n",
      "27          0       1    0  19.000000      3      2  263.0000         0.0   \n",
      "28          1       3    1  29.699118      0      0    7.8792         0.0   \n",
      "29          0       3    0  29.699118      0      0    7.8958         0.0   \n",
      "..        ...     ...  ...        ...    ...    ...       ...         ...   \n",
      "861         0       2    0  21.000000      1      0   11.5000         0.0   \n",
      "862         1       1    1  48.000000      0      0   25.9292         0.0   \n",
      "863         0       3    1  29.699118      8      2   69.5500         0.0   \n",
      "864         0       2    0  24.000000      0      0   13.0000         0.0   \n",
      "865         1       2    1  42.000000      0      0   13.0000         0.0   \n",
      "866         1       2    1  27.000000      1      0   13.8583         1.0   \n",
      "867         0       1    0  31.000000      0      0   50.4958         0.0   \n",
      "868         0       3    0  29.699118      0      0    9.5000         0.0   \n",
      "869         1       3    0   4.000000      1      1   11.1333         0.0   \n",
      "870         0       3    0  26.000000      0      0    7.8958         0.0   \n",
      "871         1       1    1  47.000000      1      1   52.5542         0.0   \n",
      "872         0       1    0  33.000000      0      0    5.0000         0.0   \n",
      "873         0       3    0  47.000000      0      0    9.0000         0.0   \n",
      "874         1       2    1  28.000000      1      0   24.0000         1.0   \n",
      "875         1       3    1  15.000000      0      0    7.2250         1.0   \n",
      "876         0       3    0  20.000000      0      0    9.8458         0.0   \n",
      "877         0       3    0  19.000000      0      0    7.8958         0.0   \n",
      "878         0       3    0  29.699118      0      0    7.8958         0.0   \n",
      "879         1       1    1  56.000000      0      1   83.1583         1.0   \n",
      "880         1       2    1  25.000000      0      1   26.0000         0.0   \n",
      "881         0       3    0  33.000000      0      0    7.8958         0.0   \n",
      "882         0       3    1  22.000000      0      0   10.5167         0.0   \n",
      "883         0       2    0  28.000000      0      0   10.5000         0.0   \n",
      "884         0       3    0  25.000000      0      0    7.0500         0.0   \n",
      "885         0       3    1  39.000000      0      5   29.1250         0.0   \n",
      "886         0       2    0  27.000000      0      0   13.0000         0.0   \n",
      "887         1       1    1  19.000000      0      0   30.0000         0.0   \n",
      "888         0       3    1  29.699118      1      2   23.4500         0.0   \n",
      "889         1       1    0  26.000000      0      0   30.0000         1.0   \n",
      "890         0       3    0  32.000000      0      0    7.7500         0.0   \n",
      "\n",
      "     Embarked_Q  Embarked_S  \n",
      "0           0.0         1.0  \n",
      "1           0.0         0.0  \n",
      "2           0.0         1.0  \n",
      "3           0.0         1.0  \n",
      "4           0.0         1.0  \n",
      "5           1.0         0.0  \n",
      "6           0.0         1.0  \n",
      "7           0.0         1.0  \n",
      "8           0.0         1.0  \n",
      "9           0.0         0.0  \n",
      "10          0.0         1.0  \n",
      "11          0.0         1.0  \n",
      "12          0.0         1.0  \n",
      "13          0.0         1.0  \n",
      "14          0.0         1.0  \n",
      "15          0.0         1.0  \n",
      "16          1.0         0.0  \n",
      "17          0.0         1.0  \n",
      "18          0.0         1.0  \n",
      "19          0.0         0.0  \n",
      "20          0.0         1.0  \n",
      "21          0.0         1.0  \n",
      "22          1.0         0.0  \n",
      "23          0.0         1.0  \n",
      "24          0.0         1.0  \n",
      "25          0.0         1.0  \n",
      "26          0.0         0.0  \n",
      "27          0.0         1.0  \n",
      "28          1.0         0.0  \n",
      "29          0.0         1.0  \n",
      "..          ...         ...  \n",
      "861         0.0         1.0  \n",
      "862         0.0         1.0  \n",
      "863         0.0         1.0  \n",
      "864         0.0         1.0  \n",
      "865         0.0         1.0  \n",
      "866         0.0         0.0  \n",
      "867         0.0         1.0  \n",
      "868         0.0         1.0  \n",
      "869         0.0         1.0  \n",
      "870         0.0         1.0  \n",
      "871         0.0         1.0  \n",
      "872         0.0         1.0  \n",
      "873         0.0         1.0  \n",
      "874         0.0         0.0  \n",
      "875         0.0         0.0  \n",
      "876         0.0         1.0  \n",
      "877         0.0         1.0  \n",
      "878         0.0         1.0  \n",
      "879         0.0         0.0  \n",
      "880         0.0         1.0  \n",
      "881         0.0         1.0  \n",
      "882         0.0         1.0  \n",
      "883         0.0         1.0  \n",
      "884         0.0         1.0  \n",
      "885         1.0         0.0  \n",
      "886         0.0         1.0  \n",
      "887         0.0         1.0  \n",
      "888         0.0         1.0  \n",
      "889         0.0         0.0  \n",
      "890         1.0         0.0  \n",
      "\n",
      "[891 rows x 10 columns]\n"
     ]
    }
   ],
   "source": [
    "features_PCA = ['Survived', 'Pclass', 'Sex', 'Age', 'SibSp', 'Parch', 'Fare', 'Embarked_C', 'Embarked_Q', 'Embarked_S']\n",
    "data_PCA = data[features_PCA]\n",
    "data_PCA_scaled = scale(data_PCA)\n",
    "print data_PCA"
   ]
  },
  {
   "cell_type": "code",
   "execution_count": 254,
   "metadata": {
    "collapsed": false
   },
   "outputs": [],
   "source": [
    "# Instantiate model\n",
    "pca = RandomizedPCA(n_components=10, whiten=False)"
   ]
  },
  {
   "cell_type": "code",
   "execution_count": 255,
   "metadata": {
    "collapsed": false
   },
   "outputs": [
    {
     "data": {
      "text/plain": [
       "RandomizedPCA(copy=True, iterated_power=3, n_components=10, random_state=None,\n",
       "       whiten=False)"
      ]
     },
     "execution_count": 255,
     "metadata": {},
     "output_type": "execute_result"
    }
   ],
   "source": [
    "pca.fit(data_PCA_scaled)"
   ]
  },
  {
   "cell_type": "code",
   "execution_count": 256,
   "metadata": {
    "collapsed": false
   },
   "outputs": [
    {
     "data": {
      "text/plain": [
       "array(['Survived', 'Pclass', 'Sex', 'Age', 'SibSp', 'Parch', 'Fare',\n",
       "       'Embarked_C', 'Embarked_Q', 'Embarked_S'], dtype=object)"
      ]
     },
     "execution_count": 256,
     "metadata": {},
     "output_type": "execute_result"
    }
   ],
   "source": [
    "data_PCA.columns.values"
   ]
  },
  {
   "cell_type": "code",
   "execution_count": 257,
   "metadata": {
    "collapsed": false
   },
   "outputs": [
    {
     "name": "stdout",
     "output_type": "stream",
     "text": [
      "[[  4.05132688e-01  -4.14644752e-01   3.30442746e-01   8.45711271e-02\n",
      "    2.46355906e-02   1.18573851e-01   4.35949093e-01   4.38427856e-01\n",
      "   -3.29233613e-04  -3.88143241e-01]\n",
      " [  1.59428537e-01   1.01207462e-02   2.82055667e-01  -2.95996200e-01\n",
      "    4.74187410e-01   5.11414399e-01   1.66517957e-01  -2.73182958e-01\n",
      "   -2.48123686e-01   3.96219704e-01]\n",
      " [  2.28993740e-02   4.59877002e-01   1.83462360e-01  -4.12937609e-01\n",
      "    2.16804970e-01   1.63599515e-01  -2.13486532e-01   1.29576652e-01\n",
      "    5.11548797e-01  -4.31271236e-01]\n",
      " [ -5.14523318e-01   1.40974570e-02  -4.86681807e-01  -5.57054543e-02\n",
      "    3.59504229e-01   2.30865735e-01   2.11961090e-01   4.06756856e-01\n",
      "   -2.58904138e-01  -1.87489902e-01]\n",
      " [ -2.13357759e-01  -1.56469551e-01  -4.95566033e-02   5.22429707e-01\n",
      "    2.63576221e-01   1.87742169e-01   2.58190458e-01  -3.74635638e-01\n",
      "    5.83936226e-01  -4.34954434e-02]\n",
      " [  9.31365306e-02  -2.31555619e-01  -3.29727428e-01  -5.82203957e-01\n",
      "    7.38583870e-02  -4.30978470e-01   4.36223076e-01  -2.22929299e-01\n",
      "    2.37777740e-01   4.79807839e-02]\n",
      " [ -9.42874401e-02   1.12283402e-02  -1.57365844e-01  -2.06240776e-01\n",
      "   -7.10224263e-01   5.89096170e-01   2.26800971e-01  -8.47428815e-02\n",
      "    1.16583111e-01   4.48068866e-03]\n",
      " [ -5.46438268e-01   2.59164304e-01   5.81919438e-01  -4.07125227e-02\n",
      "   -1.37590394e-01  -2.69463420e-01   4.39522764e-01   4.15148708e-03\n",
      "   -8.38573371e-02   4.66919916e-02]\n",
      " [  4.28378887e-01   6.86208461e-01  -2.57191344e-01   2.74783689e-01\n",
      "    3.81968627e-03  -6.07745864e-02   4.36054409e-01   1.51701042e-02\n",
      "   -8.92784273e-02   4.36309110e-02]\n",
      " [ -1.44927551e-03   2.59172537e-03  -4.11234731e-03  -4.50754048e-03\n",
      "    8.01157384e-05   1.95417718e-03  -9.39006487e-04  -5.94502129e-01\n",
      "   -4.28493782e-01  -6.80374561e-01]]\n"
     ]
    }
   ],
   "source": [
    "# return the coordinate of the nex axis on former axis\n",
    "print pca.components_"
   ]
  },
  {
   "cell_type": "code",
   "execution_count": 258,
   "metadata": {
    "collapsed": false
   },
   "outputs": [
    {
     "name": "stdout",
     "output_type": "stream",
     "text": [
      "[ 0.24048537  0.18141203  0.16295187  0.12098328  0.09630305  0.068014\n",
      "  0.05535503  0.04136816  0.03261628  0.00051093]\n"
     ]
    }
   ],
   "source": [
    "# returns the % of the variance explained by each vecto\n",
    "explained_variance = pca.explained_variance_ratio_\n",
    "print (pca.explained_variance_ratio_)"
   ]
  },
  {
   "cell_type": "code",
   "execution_count": 259,
   "metadata": {
    "collapsed": false
   },
   "outputs": [
    {
     "data": {
      "text/plain": [
       "[<matplotlib.lines.Line2D at 0x124712210>]"
      ]
     },
     "execution_count": 259,
     "metadata": {},
     "output_type": "execute_result"
    },
    {
     "data": {
      "image/png": "[encoded data removed]",
      "text/plain": [
       "<matplotlib.figure.Figure at 0x124624890>"
      ]
     },
     "metadata": {},
     "output_type": "display_data"
    }
   ],
   "source": [
    "# plot the cumulated explained variance\n",
    "cum_expl_variance = np.cumsum(explained_variance)\n",
    "plt.plot(cum_expl_variance)"
   ]
  },
  {
   "cell_type": "code",
   "execution_count": 260,
   "metadata": {
    "collapsed": false
   },
   "outputs": [],
   "source": [
    "# transformer la donnée\n",
    "data_transformed = pca.transform(data_PCA_scaled)"
   ]
  },
  {
   "cell_type": "code",
   "execution_count": 274,
   "metadata": {
    "collapsed": false
   },
   "outputs": [
    {
     "name": "stderr",
     "output_type": "stream",
     "text": [
      "/Users/louis/Library/Enthought/Canopy_64bit/User/lib/python2.7/site-packages/matplotlib/axes/_axes.py:519: UserWarning: No labelled objects found. Use label='...' kwarg on individual plots.\n",
      "  warnings.warn(\"No labelled objects found. \"\n"
     ]
    },
    {
     "data": {
      "image/png": "[encoded data removed]",
      "text/plain": [
       "<matplotlib.figure.Figure at 0x124b45990>"
      ]
     },
     "metadata": {},
     "output_type": "display_data"
    }
   ],
   "source": [
    "plt.scatter(data_transformed[:,0], data_transformed[:,1], c = data_PCA['Survived'])"
   ]
  },
  {
   "cell_type": "markdown",
   "metadata": {},
   "source": [
    "# Logistic regression"
   ]
  },
  {
   "cell_type": "code",
   "execution_count": 306,
   "metadata": {
    "collapsed": true
   },
   "outputs": [],
   "source": [
    "from sklearn import linear_model\n",
    "from sklearn.cross_validation import train_test_split\n",
    "from sklearn import cross_validation\n",
    "from sklearn import metrics"
   ]
  },
  {
   "cell_type": "code",
   "execution_count": 429,
   "metadata": {
    "collapsed": true
   },
   "outputs": [],
   "source": [
    "# ---> PARAMETERS\n",
    "#penalty:specifies the norm used in the penalization'l1' or 'l2'\n",
    "#dual : dual=False when n_samples > n_features - choose between dual or primal formulation of the minimization problem\n",
    "#C: inverse of lambda, penalizing parameter - samller values of C specify a stronger penalization\n",
    "#fit_intercept: Theta0 is not null if True\n",
    "# intercept_scaling: the weight given to the intercept\n",
    "# class_weight : can be a dictionnary or 'balanced' - 'balanced' is by default n_samples / (n_classes * np.bincount(y))\n",
    "# max_iter : maximum of iterations taken by the solver to converge\n",
    "# random_state: the seed of the pseudo random generator used when shuffling the data\n",
    "# solver : {‘newton-cg’, ‘lbfgs’, ‘liblinear’, ‘sag’}\n",
    "# multi_class :{‘ovr’, ‘multinomial’} -> one versus rest (paralell boolen output) or multinomial (direct modelisation of more than 2 classes)\n",
    "# ---> ATTRIBUTES\n",
    "# coef_: coefficients of the regression\n",
    "# intercept_: bias added to the decision function\n",
    "# n_iter_: number of iterations performed - If binary or multinomial, it returns only 1 element. For liblinear solver, only the maximum number of iteration across all classes is given."
   ]
  },
  {
   "cell_type": "code",
   "execution_count": 297,
   "metadata": {
    "collapsed": true
   },
   "outputs": [],
   "source": [
    "features = ['Pclass', 'Sex', 'Age', 'SibSp', 'Parch', 'Fare', 'Embarked_C', 'Embarked_Q', 'Embarked_S']\n",
    "data_model = preprocessing_model(data_train, features)"
   ]
  },
  {
   "cell_type": "code",
   "execution_count": 298,
   "metadata": {
    "collapsed": true
   },
   "outputs": [],
   "source": [
    "X_train, X_test, y_train, y_test = cross_validation.train_test_split(data_model, data_train['Survived'], test_size=0.2, random_state=0)"
   ]
  },
  {
   "cell_type": "code",
   "execution_count": 427,
   "metadata": {
    "collapsed": false
   },
   "outputs": [],
   "source": [
    "# Instantiate the model\n",
    "log_reg = linear_model.LogisticRegression(class_weight = {1: 0.4, 0:0.6})\n",
    "# Train the model\n",
    "log_reg.fit(X_train, y_train)\n",
    "# Predict\n",
    "y_train_predict = log_reg.predict(X_train)\n",
    "y_test_predict = log_reg.predict(X_test)"
   ]
  },
  {
   "cell_type": "code",
   "execution_count": 428,
   "metadata": {
    "collapsed": false
   },
   "outputs": [
    {
     "name": "stdout",
     "output_type": "stream",
     "text": [
      "---------------Results on test-------------\n",
      "F score 0.72131147541\n",
      "Accuracy 0.810055865922\n",
      "---------------Results on training-----------\n",
      "F score 0.733606557377\n",
      "Accuracy 0.817415730337\n"
     ]
    }
   ],
   "source": [
    "# Test metrics\n",
    "print '---------------Results on test-------------'\n",
    "print 'F score %s' %metrics.f1_score(y_test, y_test_predict)\n",
    "print 'Accuracy %s'%metrics.accuracy_score(y_test, y_test_predict)\n",
    "print '---------------Results on training-----------'\n",
    "print 'F score %s' %metrics.f1_score(y_train, y_train_predict)\n",
    "print 'Accuracy %s'%metrics.accuracy_score(y_train, y_train_predict)"
   ]
  },
  {
   "cell_type": "code",
   "execution_count": 331,
   "metadata": {
    "collapsed": true
   },
   "outputs": [
    {
     "name": "stdout",
     "output_type": "stream",
     "text": [
      "[0.71641791044776126, 0.71111111111111103, 0.71641791044776126, 0.72180451127819545, 0.71641791044776126, 0.72592592592592597, 0.73529411764705888, 0.73529411764705888, 0.73529411764705888, 0.73529411764705888, 0.74452554744525556, 0.74452554744525556, 0.74452554744525556, 0.74452554744525556, 0.74452554744525556, 0.74452554744525556, 0.74452554744525556, 0.74452554744525556, 0.74452554744525556]\n",
      "[0.7991573033707865, 0.8019662921348315, 0.800561797752809, 0.8033707865168539, 0.8033707865168539, 0.8019662921348315, 0.7991573033707865, 0.7991573033707865, 0.7991573033707865, 0.7991573033707865, 0.7991573033707865, 0.797752808988764, 0.797752808988764, 0.797752808988764, 0.7991573033707865, 0.7991573033707865, 0.7991573033707865, 0.7991573033707865, 0.7991573033707865]\n"
     ]
    }
   ],
   "source": [
    "F_score = []\n",
    "Accuracy = []\n",
    "\n",
    "for i in range(1,20):\n",
    "    # Instantiate the model\n",
    "    log_reg = linear_model.LogisticRegression(C = i*0.1)\n",
    "    # Train the model\n",
    "    log_reg.fit(X_train, y_train)\n",
    "    # Predict\n",
    "    y_train_predict = log_reg.predict(X_train)\n",
    "    y_test_predict = log_reg.predict(X_test)\n",
    "    # Assess performance\n",
    "    f = metrics.f1_score(y_test, y_test_predict)\n",
    "    F_score.append(f)\n",
    "    a = metrics.accuracy_score(y_train, y_train_predict)\n",
    "    Accuracy.append(a)\n",
    "                       \n",
    "print F_score\n",
    "print Accuracy"
   ]
  },
  {
   "cell_type": "code",
   "execution_count": 332,
   "metadata": {
    "collapsed": false
   },
   "outputs": [
    {
     "data": {
      "text/plain": [
       "[<matplotlib.lines.Line2D at 0x124f17050>]"
      ]
     },
     "execution_count": 332,
     "metadata": {},
     "output_type": "execute_result"
    },
    {
     "data": {
      "image/png": "[encoded data removed]",
      "text/plain": [
       "<matplotlib.figure.Figure at 0x12553b490>"
      ]
     },
     "metadata": {},
     "output_type": "display_data"
    }
   ],
   "source": [
    "plt.plot(F_score)\n",
    "plt.plot(Accuracy)\n"
   ]
  },
  {
   "cell_type": "code",
   "execution_count": 436,
   "metadata": {
    "collapsed": false
   },
   "outputs": [
    {
     "data": {
      "text/plain": [
       "0.81741573033707871"
      ]
     },
     "execution_count": 436,
     "metadata": {},
     "output_type": "execute_result"
    }
   ],
   "source": [
    "# ---> METHODS associated ti Logistic Regression\n",
    "#log_reg.decision_function(X_train) : provides confidenc scores for all samples, The confidence score for a sample is the signed distance of that sample to the hyperplane.\n",
    "#log_reg.predict_proba(X_train): returns the proba for each sample to belong to each of the class (2 if 2 classes, more if ovr or multiclass)\n",
    "log_reg.score(X_train, y_train) # mean accuracy on the given test data and labels"
   ]
  },
  {
   "cell_type": "markdown",
   "metadata": {},
   "source": [
    "# Grid Search"
   ]
  },
  {
   "cell_type": "code",
   "execution_count": 336,
   "metadata": {
    "collapsed": false
   },
   "outputs": [],
   "source": [
    "from sklearn import grid_search"
   ]
  },
  {
   "cell_type": "code",
   "execution_count": 337,
   "metadata": {
    "collapsed": true
   },
   "outputs": [],
   "source": [
    "# Instantiate the model\n",
    "log_reg = linear_model.LogisticRegression()\n"
   ]
  },
  {
   "cell_type": "code",
   "execution_count": 343,
   "metadata": {
    "collapsed": false
   },
   "outputs": [],
   "source": [
    "parameters = {'C': [i*0.1 for i in range(1,20)], 'fit_intercept': [True, False]}\n",
    "clf = grid_search.GridSearchCV(log_reg, parameters, cv = 3)"
   ]
  },
  {
   "cell_type": "code",
   "execution_count": 344,
   "metadata": {
    "collapsed": false
   },
   "outputs": [],
   "source": [
    "# Train the model\n",
    "clf.fit(X_train, y_train)\n",
    "# Predict\n",
    "y_train_predict = clf.predict(X_train)\n",
    "y_test_predict = clf.predict(X_test)"
   ]
  },
  {
   "cell_type": "code",
   "execution_count": 345,
   "metadata": {
    "collapsed": false
   },
   "outputs": [
    {
     "data": {
      "text/plain": [
       "{'C': 0.1, 'fit_intercept': True}"
      ]
     },
     "execution_count": 345,
     "metadata": {},
     "output_type": "execute_result"
    }
   ],
   "source": [
    "clf.best_params_"
   ]
  },
  {
   "cell_type": "code",
   "execution_count": 346,
   "metadata": {
    "collapsed": false
   },
   "outputs": [
    {
     "name": "stdout",
     "output_type": "stream",
     "text": [
      "---------------Results on test-------------\n",
      "F score 0.716417910448\n",
      "Accuracy 0.787709497207\n",
      "---------------Results on training-----------\n",
      "F score 0.71905697446\n",
      "Accuracy 0.799157303371\n"
     ]
    }
   ],
   "source": [
    "# Test metrics\n",
    "print '---------------Results on test-------------'\n",
    "print 'F score %s' %metrics.f1_score(y_test, y_test_predict)\n",
    "print 'Accuracy %s'%metrics.accuracy_score(y_test, y_test_predict)\n",
    "print '---------------Results on training-----------'\n",
    "print 'F score %s' %metrics.f1_score(y_train, y_train_predict)\n",
    "print 'Accuracy %s'%metrics.accuracy_score(y_train, y_train_predict)"
   ]
  },
  {
   "cell_type": "markdown",
   "metadata": {},
   "source": [
    "# Random trees"
   ]
  },
  {
   "cell_type": "code",
   "execution_count": 352,
   "metadata": {
    "collapsed": true
   },
   "outputs": [],
   "source": [
    "from sklearn import tree"
   ]
  },
  {
   "cell_type": "code",
   "execution_count": 363,
   "metadata": {
    "collapsed": true
   },
   "outputs": [],
   "source": [
    "X_train, X_test, y_train, y_test = cross_validation.train_test_split(data_model, data_train['Survived'], test_size=0.2, random_state=0)"
   ]
  },
  {
   "cell_type": "code",
   "execution_count": 366,
   "metadata": {
    "collapsed": false
   },
   "outputs": [],
   "source": [
    "# define parameters\n",
    "parameters = {'min_samples_split': [i*10 for i in range(1,100)]}\n",
    "# instantiate model\n",
    "decision_tree = tree.DecisionTreeClassifier()\n",
    "# launch grid search\n",
    "clf = grid_search.GridSearchCV(decision_tree, parameters, cv = 3)\n",
    "clf.fit(X_train, y_train)\n",
    "y_test_predict = clf.predict(X_test)\n",
    "y_train_predict = clf.predict(X_train)"
   ]
  },
  {
   "cell_type": "code",
   "execution_count": 367,
   "metadata": {
    "collapsed": false
   },
   "outputs": [
    {
     "name": "stdout",
     "output_type": "stream",
     "text": [
      "---------------Results on test-------------\n",
      "F score 0.717557251908\n",
      "Accuracy 0.793296089385\n",
      "---------------Results on training-----------\n",
      "F score 0.781132075472\n",
      "Accuracy 0.837078651685\n"
     ]
    }
   ],
   "source": [
    "# Test metrics\n",
    "print '---------------Results on test-------------'\n",
    "print 'F score %s' %metrics.f1_score(y_test, y_test_predict)\n",
    "print 'Accuracy %s'%metrics.accuracy_score(y_test, y_test_predict)\n",
    "print '---------------Results on training-----------'\n",
    "print 'F score %s' %metrics.f1_score(y_train, y_train_predict)\n",
    "print 'Accuracy %s'%metrics.accuracy_score(y_train, y_train_predict)"
   ]
  },
  {
   "cell_type": "code",
   "execution_count": 368,
   "metadata": {
    "collapsed": false
   },
   "outputs": [
    {
     "data": {
      "text/plain": [
       "{'min_samples_split': 60}"
      ]
     },
     "execution_count": 368,
     "metadata": {},
     "output_type": "execute_result"
    }
   ],
   "source": [
    "clf.best_params_"
   ]
  },
  {
   "cell_type": "markdown",
   "metadata": {},
   "source": [
    "# Linear Regression (training)"
   ]
  },
  {
   "cell_type": "code",
   "execution_count": 380,
   "metadata": {
    "collapsed": false
   },
   "outputs": [],
   "source": [
    "from sklearn import linear_model"
   ]
  },
  {
   "cell_type": "code",
   "execution_count": 412,
   "metadata": {
    "collapsed": false
   },
   "outputs": [],
   "source": [
    "lin_reg = linear_model.LinearRegression(fit_intercept = True, normalize = True, copy_X = False, n_jobs = -1)\n",
    "# ---> PARAMS\n",
    "# fit_intercept : Theta0 = 0 if False (i.e., assume data is already centered) - careful with this one!\n",
    "# normalize: Features are normalized upfront if True\n",
    "# copy_X: makes a copy of features\n",
    "# n_jobs: number of CPUs to use for the computation. If -1, all CPUs are used.\n",
    "# ---> ATTRIBUTES\n",
    "# coef_: returns the estimated coefficients for the linear regression model\n",
    "# intercept_: returns Theta0"
   ]
  },
  {
   "cell_type": "code",
   "execution_count": 413,
   "metadata": {
    "collapsed": false
   },
   "outputs": [],
   "source": [
    "# Try to predict the age knowing the class and the Fare paid\n",
    "features = ['Fare', 'Pclass', 'Age']\n",
    "data_linreg = preprocessing_model(data, features)\n",
    "X_reg = data_linreg[['Fare', 'Pclass']]\n",
    "Y_reg = data_linreg['Age']"
   ]
  },
  {
   "cell_type": "code",
   "execution_count": 414,
   "metadata": {
    "collapsed": false
   },
   "outputs": [
    {
     "data": {
      "text/plain": [
       "LinearRegression(copy_X=False, fit_intercept=True, n_jobs=-1, normalize=True)"
      ]
     },
     "execution_count": 414,
     "metadata": {},
     "output_type": "execute_result"
    }
   ],
   "source": [
    "# train the model\n",
    "# note: one can add the sample_weight - which corresponds to the weight of each line in the training of the model\n",
    "lin_reg.fit(X_reg, Y_reg)"
   ]
  },
  {
   "cell_type": "code",
   "execution_count": 415,
   "metadata": {
    "collapsed": true
   },
   "outputs": [],
   "source": [
    "# predict a Y based on a X\n",
    "Y_pred = lin_reg.predict(X_reg)"
   ]
  },
  {
   "cell_type": "code",
   "execution_count": 416,
   "metadata": {
    "collapsed": false
   },
   "outputs": [
    {
     "data": {
      "text/plain": [
       "{'copy_X': False, 'fit_intercept': True, 'n_jobs': -1, 'normalize': True}"
      ]
     },
     "execution_count": 416,
     "metadata": {},
     "output_type": "execute_result"
    }
   ],
   "source": [
    "# get params of the model\n",
    "lin_reg.get_params(deep=True)"
   ]
  },
  {
   "cell_type": "code",
   "execution_count": 417,
   "metadata": {
    "collapsed": false
   },
   "outputs": [
    {
     "data": {
      "text/plain": [
       "0.12151957298981542"
      ]
     },
     "execution_count": 417,
     "metadata": {},
     "output_type": "execute_result"
    }
   ],
   "source": [
    "# get R-squared\n",
    "lin_reg.score(X_reg, Y_reg)"
   ]
  },
  {
   "cell_type": "code",
   "execution_count": 418,
   "metadata": {
    "collapsed": false
   },
   "outputs": [
    {
     "name": "stdout",
     "output_type": "stream",
     "text": [
      "linear_coeff [-0.03392305 -6.26070135]:\n",
      "intercept 45.2453006578:\n"
     ]
    }
   ],
   "source": [
    "# get coefficients\n",
    "print 'linear_coeff %s:' %lin_reg.coef_\n",
    "print 'intercept %s:' %lin_reg.intercept_"
   ]
  },
  {
   "cell_type": "code",
   "execution_count": 409,
   "metadata": {
    "collapsed": false
   },
   "outputs": [
    {
     "data": {
      "image/png": "[encoded data removed]",
      "text/plain": [
       "<matplotlib.figure.Figure at 0x12718f3d0>"
      ]
     },
     "metadata": {},
     "output_type": "display_data"
    }
   ],
   "source": [
    "colors = {1: 'blue', 2:'green', 3:'red'}\n",
    "plt.figure(figsize=(8, 6))\n",
    "plt.scatter(Y_reg, X_reg['Fare'], c = X_reg['Pclass'].map(colors), marker = 'x')\n",
    "plt.xlabel('Age', fontsize=18)\n",
    "plt.ylabel('Fare', fontsize = 18)\n",
    "plt.ylim((0,600))\n",
    "plt.xlim((0,85))\n",
    "plt.legend()\n",
    "plt.legend(loc=\"upper left\", markerscale=0.7, scatterpoints=1, fontsize=10)\n",
    "plt.grid(True)"
   ]
  },
  {
   "cell_type": "code",
   "execution_count": null,
   "metadata": {
    "collapsed": true
   },
   "outputs": [],
   "source": []
  }
 ],
 "metadata": {
  "kernelspec": {
   "display_name": "Python 2",
   "language": "python",
   "name": "python2"
  },
  "language_info": {
   "codemirror_mode": {
    "name": "ipython",
    "version": 2
   },
   "file_extension": ".py",
   "mimetype": "text/x-python",
   "name": "python",
   "nbconvert_exporter": "python",
   "pygments_lexer": "ipython2",
   "version": "2.7.11"
  }
 },
 "nbformat": 4,
 "nbformat_minor": 0
}
